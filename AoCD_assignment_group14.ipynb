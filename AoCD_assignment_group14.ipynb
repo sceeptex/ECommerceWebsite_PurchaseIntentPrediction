{
  "cells": [
    {
      "attachments": {},
      "cell_type": "markdown",
      "id": "QDx5I8Kk0_qZ",
      "metadata": {
        "id": "QDx5I8Kk0_qZ"
      },
      "source": [
        "# Task Description: Intent Prediction\n",
        "\n",
        "![41598_2020_73622_Fig1_HTML.png.webp](attachment:41598_2020_73622_Fig1_HTML.png.webp)\n",
        "\n",
        "## Dataset \n",
        "\n",
        "Origin: The Coveo Data Challenge: Aftermath of SIGIR Ecom 2021. https://www.coveo.com/blog/sigir-ecommerce-data-challenge/\n",
        "\n",
        "The following description is found here: https://github.com/coveooss/SIGIR-ecom-data-challenge\n",
        "\n",
        "\n",
        "### Overview\n",
        "Coveo hosted the [2021 SIGIR eCom](https://sigir-ecom.github.io) Data Challenge \n",
        "and this repository contains utility scripts and the dataset, which is freely\n",
        "available for research purposes (see below): the paper introducing the Challenge is [available](https://arxiv.org/abs/2104.09423) as \n",
        "a pre-print. \n",
        "\n",
        "The Data Challenge \n",
        "original README (containing baseline information, design papers, solutions, etc.)\n",
        "is archived in this repository as `README_DC_2021.md`. Background information \n",
        "about the Challenge, the motivations behind the release and some inspiring submissions\n",
        " can be found in the original [paper](https://arxiv.org/abs/2104.09423), the archival section in `README_DC_2021.md`\n",
        " and the SIGIR [presentation](https://drive.google.com/file/d/1O0BSAhgJFzx1ddeExxAEGnP_836AftNT/view).\n",
        "\n",
        "_Note: there has been some issues when downloading the file using Safari; \n",
        "we suggest you to use Chrome for the download and sign-up process._\n",
        "\n",
        "### License\n",
        "\n",
        "The dataset is available for research and educational purposes at \n",
        "[this page](https://www.coveo.com/en/ailabs/sigir-ecom-data-challenge). \n",
        "To obtain the dataset, you are required to fill a form with information about you \n",
        "and your institution, and agree to the Terms And Conditions for fair usage of the data. \n",
        "For convenience, Terms And Conditions are also included in a pure `txt` format in this repo:\n",
        "usage of the data implies the acceptance of these Terms And Conditions.\n",
        "\n",
        "### Dataset\n",
        "\n",
        "#### Data Description\n",
        "\n",
        "The dataset is provided as three big text files (`.csv`) - `browsing_train.csv`, `search_train.csv`, `sku_to_content.csv` - \n",
        "inside a `zip` archive containing an additional copy of the _Terms And Conditions_. The final dataset contains 36M events, \n",
        "and it is the first dataset of this kind to be released to the research community: please review the \n",
        "[Data Challenge paper](https://arxiv.org/abs/2104.09423) \n",
        "for a comparison with existing datasets and for the motivations behind the release format. \n",
        "For your convenience, three sample files are included in the `start` folder, showcasing the data structure. \n",
        "Below, you will find a detailed description for each file.\n",
        "\n",
        "##### Browsing Events\n",
        "\n",
        "The file `browsing_train.csv` contains almost 5M anonymized shopping [sessions](https://support.google.com/analytics/answer/2731565?hl=en).\n",
        "The structure of this dataset is similar to our [Scientific Reports](https://github.com/coveooss/shopper-intent-prediction-nature-2020) data release: \n",
        "each row corresponds to a browsing event in a session, containing session and timestamp information, as well as \n",
        "(hashed) details on the interaction (was it _purchase_ or a _detail_ event? Was it a simple _pageview_ or a specific\n",
        "product action?). All data was collected and processed in an anonymized fashion through our standard [SDK](https://docs.coveo.com/en/3188/coveo-for-commerce/tracking-commerce-events):\n",
        "remember that front-end tracking is by nature imperfect, so small inconsistencies are to be expected.\n",
        "\n",
        "Field | Type | Description\n",
        "------------ | ------------- | -------------\n",
        "session_id_hash | string | Hashed identifier of the shopping session. A session groups together events that are at most 30 minutes apart: if the same user comes back to the target website after 31 minutes from the last interaction, a new session identifier is assigned.\n",
        "event_type | enum | The type of event according to the [Google Protocol](https://developers.google.com/analytics/devguides/collection/protocol/v1), one of { _pageview_ , _event_ }; for example, an _add_ event can happen on a page load, or as a stand-alone event.\n",
        "product_action | enum | One of { _detail_, _add_, _purchase_, _remove_ }. If the field is empty, the event is a simple page view (e.g. the `FAQ` page) without associated products. Please also note that an action involving removing a product from the cart might lead to several consecutive _remove_ events. <br>Please note that _click_ events (that is, events generated by clicking on a search page) are included in the `search_train.csv` file.\n",
        "product_sku_hash | string | If the event is a _product_ event, hashed identifier of the product in the event.\n",
        "server_timestamp_epoch_ms | int | Epoch time, in milliseconds. As a further anonymization technique, the timestamp has been shifted by an unspecified amount of weeks, keeping intact the intra-week patterns.\n",
        "hashed_url | string | Hashed url of the current web page.\n",
        "\n",
        "Finally, please be aware that a PDP may generate both a _detail_ and a _pageview_ event, and that the order of the events in the \n",
        "file is not strictly chronological (refer to the session identifier and the timestamp information to reconstruct the \n",
        "actual chain of events for a given session). \n",
        "\n",
        "##### Search Events\n",
        "\n",
        "The file `search_train.csv` contains more than 800k search-based interactions. Each row is a search query event issued by a shopper, which includes an array of (hashed) results returned to the client. We also provide which result(s) have been clicked from the result set, if any. \n",
        "By reporting also products seen but not clicked, we hope to inspire clever ways to use negative feedback. \n",
        "\n",
        "Field | Type | Description\n",
        "------------ | ------------- | -------------\n",
        "session_id_hash | string | Hashed identifier of the shopping session. A session groups together events that are at most 30 minutes apart: if the same user comes back to the target website after 31 minutes from the last interaction, a new session identifier is assigned.\n",
        "server_timestamp_epoch_ms | int | Epoch time, in milliseconds. As a further anonymization technique, the timestamp has been shifted by an unspecified amount of weeks, keeping intact the intra-week patterns.\n",
        "query_vector | vector | A dense representation of the search query, obtained through standard pre-trained modeling and dimensionality reduction techniques.\n",
        "product_skus_hash | list | Hashed identifiers of the products in the search response.\n",
        "clicked_skus_hash | list | Hashed identifiers of the products clicked after issuing the search query.\n",
        "\n",
        "\n",
        "##### Catalog Metadata\n",
        "\n",
        "The file `sku_to_content.csv` contains a mapping between (hashed) product identifiers (SKUs) and dense representation\n",
        "of textual and image meta-data from the actual catalog, for all the SKUs in the training and the Challenge evaluation\n",
        "dataset (when the information is available).\n",
        "\n",
        "Field | Type | Description\n",
        "------------ | ------------- | -------------\n",
        "product_sku_hash | string | Hashed identifier of product ID (SKU).\n",
        "category_hash | string | The categories are hashed representations of the category hierarchy, `/`-separated.\n",
        "price_bucket | int | The product price, provided as a 10-quantile integer.\n",
        "description_vector | vector | A dense representation of textual meta-data, obtained through standard pre-trained modeling and dimensionality reduction techniques. Please note that this representation is compatible with the one in the search file.\n",
        "image_vector| vector | A dense representation of image meta-data, obtained through standard pre-trained modeling and dimensionality reduction techniques.\n"
      ]
    },
    {
      "attachments": {},
      "cell_type": "markdown",
      "id": "north-toner",
      "metadata": {
        "id": "north-toner"
      },
      "source": [
        "### What do we see?\n",
        "\n",
        "* the <font color='green'>hashed session ID</font>: two actions get the same session ID (hashed for privacy reasons) if they:\n",
        "    * are consecutive\n",
        "    * are performed by the same user\n",
        "    * are no more than 30m apart (this is an industry standard)\n",
        "\n",
        "* the <font color='green'>event type</font>, which tells us whether the event involved a specific product or not (e.g., searches, result pages, homepage, ...)\n",
        "\n",
        "* the <font color='green'>product action</font>, indicating how a user interacted with a specific product (checking the product detail, adding it to cart, removing it from cart, purchasing).\n",
        "\n",
        "* the <font color='green'>product SKU</font> (hashed for privacy) which indicates which specific product was being checked. If the event type is *pageview*, both product action and product SKU are logically not available.\n",
        "\n",
        "* the <font color='green'>timestamp</font> of the action, in absolute time, from which we can derive information such as the DoW and the time of the day of a certain session, as well as the time occurred between two consecutive actions.\n",
        "\n",
        "* the <font color='green'>url</font> the user was visiting (hashed for privacy).\n",
        "\n",
        "### What don't we see?\n",
        "\n",
        "- Information about products: we'll see them later.\n",
        "- Information about users: this is on purpose, we'll see why!\n",
        "\n",
        "## Why to work with less data\n",
        "- Colds start problem\n",
        "- Data privacy\n",
        "- Runs faster\n",
        "- Scalable\n",
        "- Easier interpretable\n",
        "- Reduced computational cost\n",
        "- Improved generalization\n",
        "- Faster iteration time\n",
        "\n",
        "## Intent prediction\n",
        "\n",
        "In its more general form, it boils down to anticipating what users will do during a browsing session. \n",
        "\n",
        "## Why?\n",
        "If we can predict what users want to do, we can take targeted actions to nudge them towards the action that maximises our utility: \n",
        "\n",
        "- keep users on the website longer (like <font color='blue'>FB</font> and <font color='blue'>Twitter</font> do) and thus see more ads\n",
        "- convince them to watch one more video, and thus one more ad (as <font color='red'>YT</font> does)\n",
        "- convince them to purchase one more item or a more expensive item or an item where our margin is higher (like <font color='orange'>Amazon</font> does). \n",
        "\n",
        "Intent prediction's business utility is tied to how effective the nudges we can implement are. From a scientific perspective, intent prediction is however interesting in its own right: to what extent can behavior (observed) inform about goals and motives (not observed)? What details about behavior do we need to adequatly infer goals?\n",
        "\n",
        "Also, if we can nudge users to buy something we can maybe improve our conversion rate, i.e. the proportion of visits where a user leaves after purchasing at least one item. Conversion rates are incredibly low for most eCommerce websites (around ~5%)\n",
        "\n",
        "## What?\n",
        "There are several intentions that can be predicted but here we focus on an eCommerce setting and on two very simple steps in a user trajectory: purchasing and adding to cart.\n",
        "\n",
        "### purchase v. no-purchase\n",
        "Will a user buy something by the end of the session?\n",
        "\n",
        "If we can detect someone is going to buy, we may decide not to offer discounts. If we detect someone is window-shopping, we may want to offer a discount to trigger a purchase or offer a coupon to come back and buy. Challenges: class imbalance and overfitting!\n",
        "\n",
        "### cart abandonement\n",
        "Very similar to the first one but limited to sessions where an item was added to cart. Cart abandonement is also affected by attrition factors, e.g. difficulty at payment time, so intent is only a part of the story.\n",
        "\n",
        "Class imbalance here is more moderate since purchases are more frequent among users who add something to cart but if we have to wait for an add-to-cart we might lose window-shoppers and can only predict later in the session.\n",
        "\n",
        "\n",
        "## Challenges:\n",
        "\n",
        "* <font color='purple'>privacy, GDPR, and bad press</font>: storing personal information on customers is tricky from a legal standpoint and is considered less and less favorably by customers. Can we predict without relying on personal info (age, sex, gender, education level, wealth, ...)?\n",
        "\n",
        "* <font color='purple'>zero-shot prediction</font>: even if we rely on customer information, very often we don't have it because we have to predict a user's intent the first time we see that user, who doesn't have an account on the website or isn't logged in, so no personal info available (sure, third party cookies, but see the previous point). This type of user is the vast majority, especially for mid and small e-commerce platforms.\n",
        "\n",
        "* <font color='purple'>predicting in real time</font>: some studies take full sessions as input, but if we can only find out a user will leave when they've already left, our algorithm is no good ->\n",
        "\n",
        "\n",
        "## Early prediction\n",
        "\n",
        "Same as intent prediction conceptually, but performed on unfolding sessions and thus partial information. We can aim to predict the next action or the next product (closer to recommender systems) or the overarching intent.\n",
        "\n",
        "Higher business value, since we can take action at the right time; but much more challenging, since we predict based on fewer events and thus less information.\n",
        "\n",
        "Let's get rolling now!\n",
        "\n",
        "\n",
        "## Other click data\n",
        "\n",
        "### Time information\n",
        "\n",
        "* <font color='blue'>dwell times</font>: the time which elapses between two consecutive actions within the same session. Can indicate interest or lack thereof. \"die Zeit, die zwischen zwei aufeinanderfolgenden Aktionen innerhalb derselben Sitzung verstreicht. Kann auf Interesse oder mangelndes Interesse hinweisen.\"\n",
        "\n",
        "![dwellTimes.png](attachment:dwellTimes.png)\n",
        "\n",
        "* <font color='blue'>seasonality</font>: the period of the year (and possible holidays), the day of the week, the time of the day (geolocalised at least to the time-zone) can all skew the intentions of a user.\n",
        "\n",
        "![seasonality.png](attachment:seasonality.png)\n",
        "\n",
        "### Product information\n",
        "\n",
        "* <font color='violet'>SKUs</font>: the identity of the product, without any further info. A website may have best-selling products, such that knowing a user checked it can improve our prediction.\n",
        "\n",
        "* <font color='violet'>Category</font>: any organisation of the products, based on a product tree, such that more similar products get the same category. Once again, checking certain products could indicate a higher propension to buy (also interacts with seasonality!)\n",
        "\n",
        "![noun-chart-4408232.png](attachment:noun-chart-4408232.png)\n",
        "\n",
        "* <font color='violet'>Price bucket</font>: how expensive a product is, binned to avoid overfitting.\n",
        "\n",
        "* <font color='violet'>Product embeddings</font>: much like word embeddings, these are distributed representations of products based on the other products with which they're typically checked. Two products that feature in similar sessions (i.e., which feature similar products) will be more similar. Similarity of embeddings can correlate with pre-defined categories but can also diverge.\n",
        "\n",
        "![productEmbeddings.png](attachment:productEmbeddings.png)\n",
        "\n",
        "* <font color='violet'>Image embeddings</font>: distributed representations of products based on their images, obtained using Computer Vision tools. Same idea as the product embeddings. \n",
        "\n",
        "![imageEmbeddings.png](attachment:imageEmbeddings.png)\n",
        "\n",
        "\n",
        "### Search information\n",
        "\n",
        "* already knowing whether the session started with a search query or not may inform us about intent\n",
        "\n",
        "* we can embed the query using <font color='red'>NLP tools</font> and use the distributed representation of the query to refine our prediction"
      ]
    },
    {
      "cell_type": "code",
      "execution_count": 1,
      "id": "b87da3b1",
      "metadata": {},
      "outputs": [],
      "source": [
        "# TODO check naming convention"
      ]
    },
    {
      "cell_type": "markdown",
      "id": "ZJ020T2lgpBx",
      "metadata": {
        "id": "ZJ020T2lgpBx"
      },
      "source": [
        "# Mount Drive"
      ]
    },
    {
      "cell_type": "code",
      "execution_count": 2,
      "id": "7ewdXuVEgqT1",
      "metadata": {
        "colab": {
          "base_uri": "https://localhost:8080/"
        },
        "id": "7ewdXuVEgqT1",
        "outputId": "e5f26976-fcc6-46e8-93d2-e8ca396e666d"
      },
      "outputs": [],
      "source": [
        "# from google.colab import drive\n",
        "# drive.mount('/content/drive')"
      ]
    },
    {
      "cell_type": "markdown",
      "id": "1per4HZSgmJS",
      "metadata": {
        "id": "1per4HZSgmJS"
      },
      "source": [
        "# Installation"
      ]
    },
    {
      "cell_type": "code",
      "execution_count": 3,
      "id": "S7dWmzifgevu",
      "metadata": {
        "id": "S7dWmzifgevu"
      },
      "outputs": [],
      "source": [
        "# lets see what we need \n",
        "# !pip install scikit_optimize\n",
        "# !pip install lightgbm\n",
        "# !pip install auto-sklearn \n",
        "# !pip install seaborn #TODO uncomment\n",
        "# !pip install matplotlib #TODO uncomment\n",
        "# !pip install plotly #TODO uncomment\n",
        "# !pip install sklearn"
      ]
    },
    {
      "cell_type": "markdown",
      "id": "L_9Dwu2GguNM",
      "metadata": {
        "id": "L_9Dwu2GguNM"
      },
      "source": [
        "# Imports"
      ]
    },
    {
      "cell_type": "code",
      "execution_count": 4,
      "id": "human-calibration",
      "metadata": {
        "id": "human-calibration"
      },
      "outputs": [],
      "source": [
        "# imports\n",
        "import os\n",
        "import copy\n",
        "import numpy as np\n",
        "import pandas as pd\n",
        "import pickle as pkl\n",
        "from collections import Counter, defaultdict\n",
        "import time\n",
        "\n",
        "import datetime\n",
        "from datetime import timedelta\n",
        "import json\n",
        "from itertools import product\n",
        "from tqdm import tqdm\n",
        "import multiprocessing as mp\n",
        "\n",
        "import seaborn as sns\n",
        "import matplotlib.pyplot as plt\n",
        "import plotly.express as px\n",
        "from matplotlib.pyplot import figure\n",
        "\n",
        "from sklearn.model_selection import train_test_split\n",
        "from sklearn.metrics import classification_report\n",
        "from sklearn import metrics\n",
        "from sklearn.metrics import accuracy_score, f1_score, roc_auc_score, roc_curve\n"
      ]
    },
    {
      "attachments": {},
      "cell_type": "markdown",
      "id": "0XlkBJERxe0x",
      "metadata": {
        "id": "0XlkBJERxe0x"
      },
      "source": [
        "# Load the data (Task 1)"
      ]
    },
    {
      "cell_type": "code",
      "execution_count": 5,
      "id": "HLJcVPVceeGb",
      "metadata": {
        "id": "HLJcVPVceeGb"
      },
      "outputs": [],
      "source": [
        "# DATA_FOLDER = 'drive/MyDrive/Tilburg/Analysis_of_customer_data/data'\n",
        "DATA_FOLDER = 'data'"
      ]
    },
    {
      "cell_type": "code",
      "execution_count": 6,
      "id": "Bp1gjPA6w13P",
      "metadata": {
        "id": "Bp1gjPA6w13P"
      },
      "outputs": [],
      "source": [
        "# create directories\n",
        "os.makedirs(DATA_FOLDER,exist_ok=True)\n",
        "DATA_FOLDER_PREPROCESSING = os.path.join(DATA_FOLDER,'processing')\n",
        "os.makedirs(DATA_FOLDER_PREPROCESSING,exist_ok=True)\n",
        "DATA_FOLDER_TEST_DATA = os.path.join(DATA_FOLDER,'test_data')\n",
        "os.makedirs(DATA_FOLDER_TEST_DATA,exist_ok=True)\n",
        "DATA_FOLDER_SUBMISSION = os.path.join(DATA_FOLDER,'submission')\n",
        "os.makedirs(DATA_FOLDER_SUBMISSION,exist_ok=True)"
      ]
    },
    {
      "cell_type": "code",
      "execution_count": 7,
      "id": "passive-knock",
      "metadata": {
        "colab": {
          "base_uri": "https://localhost:8080/"
        },
        "id": "passive-knock",
        "outputId": "d2eff4b8-89ea-4f45-ce46-a0f8ed47a880"
      },
      "outputs": [
        {
          "name": "stdout",
          "output_type": "stream",
          "text": [
            "Wall time: 40 s\n"
          ]
        }
      ],
      "source": [
        "%%time\n",
        "# read the data\n",
        "df_raw = pd.read_csv(os.path.join(DATA_FOLDER,'data.csv'), header = 0, sep = ',') #ordered by time\n",
        "\n",
        "# dummy data for faster execution\n",
        "# df_raw = pd.read_csv(os.path.join(DATA_FOLDER,'data_subset.csv'), header = 0, sep = ',') #ordered by time\n",
        "# df_raw = df_raw[:10000]\n",
        "\n",
        "df_test_real = pd.read_csv(os.path.join(DATA_FOLDER,'data_eval.csv'), header = 0, sep='\\t') #ordered by time"
      ]
    },
    {
      "cell_type": "code",
      "execution_count": 8,
      "id": "5ba61a8c",
      "metadata": {},
      "outputs": [
        {
          "data": {
            "text/plain": [
              "30451347"
            ]
          },
          "metadata": {},
          "output_type": "display_data"
        },
        {
          "data": {
            "text/html": [
              "<div>\n",
              "<style scoped>\n",
              "    .dataframe tbody tr th:only-of-type {\n",
              "        vertical-align: middle;\n",
              "    }\n",
              "\n",
              "    .dataframe tbody tr th {\n",
              "        vertical-align: top;\n",
              "    }\n",
              "\n",
              "    .dataframe thead th {\n",
              "        text-align: right;\n",
              "    }\n",
              "</style>\n",
              "<table border=\"1\" class=\"dataframe\">\n",
              "  <thead>\n",
              "    <tr style=\"text-align: right;\">\n",
              "      <th></th>\n",
              "      <th>server_timestamp_epoch_ms</th>\n",
              "    </tr>\n",
              "  </thead>\n",
              "  <tbody>\n",
              "    <tr>\n",
              "      <th>count</th>\n",
              "      <td>3.045135e+07</td>\n",
              "    </tr>\n",
              "    <tr>\n",
              "      <th>mean</th>\n",
              "      <td>1.550765e+12</td>\n",
              "    </tr>\n",
              "    <tr>\n",
              "      <th>std</th>\n",
              "      <td>2.264207e+09</td>\n",
              "    </tr>\n",
              "    <tr>\n",
              "      <th>min</th>\n",
              "      <td>1.547529e+12</td>\n",
              "    </tr>\n",
              "    <tr>\n",
              "      <th>25%</th>\n",
              "      <td>1.548696e+12</td>\n",
              "    </tr>\n",
              "    <tr>\n",
              "      <th>50%</th>\n",
              "      <td>1.550503e+12</td>\n",
              "    </tr>\n",
              "    <tr>\n",
              "      <th>75%</th>\n",
              "      <td>1.552489e+12</td>\n",
              "    </tr>\n",
              "    <tr>\n",
              "      <th>max</th>\n",
              "      <td>1.555301e+12</td>\n",
              "    </tr>\n",
              "  </tbody>\n",
              "</table>\n",
              "</div>"
            ],
            "text/plain": [
              "       server_timestamp_epoch_ms\n",
              "count               3.045135e+07\n",
              "mean                1.550765e+12\n",
              "std                 2.264207e+09\n",
              "min                 1.547529e+12\n",
              "25%                 1.548696e+12\n",
              "50%                 1.550503e+12\n",
              "75%                 1.552489e+12\n",
              "max                 1.555301e+12"
            ]
          },
          "metadata": {},
          "output_type": "display_data"
        },
        {
          "name": "stdout",
          "output_type": "stream",
          "text": [
            "event types: {'event_product', 'pageview'}\n",
            "product actions: {nan, 'detail', 'add', 'purchase', 'remove'}\n",
            "unique session IDs: 4187127\n",
            "unique product SKUs: 54035\n"
          ]
        }
      ],
      "source": [
        "# simple inspection of the dataset\n",
        "display(len(df_raw))\n",
        "display(df_raw.describe())\n",
        "print('event types: {}'.format(set(df_raw['event_type'])))\n",
        "print('product actions: {}'.format(set(df_raw['product_action'])))\n",
        "print('unique session IDs: {}'.format(len(set(df_raw['session_id_hash']))))\n",
        "print('unique product SKUs: {}'.format(len(set(df_raw['product_sku_hash']))))"
      ]
    },
    {
      "attachments": {},
      "cell_type": "markdown",
      "id": "nUYKTqCQ-AOx",
      "metadata": {
        "id": "nUYKTqCQ-AOx"
      },
      "source": [
        "# Data Pipeline Functions\n",
        "\n"
      ]
    },
    {
      "cell_type": "markdown",
      "id": "aW0cBapL-DyB",
      "metadata": {
        "id": "aW0cBapL-DyB"
      },
      "source": [
        "## Fill na values of sessions"
      ]
    },
    {
      "cell_type": "code",
      "execution_count": 9,
      "id": "Xx4uu8Rr9zNl",
      "metadata": {
        "colab": {
          "base_uri": "https://localhost:8080/",
          "height": 270
        },
        "id": "Xx4uu8Rr9zNl",
        "outputId": "02383ac6-ddf7-40fb-9480-6585f8acd7bb"
      },
      "outputs": [],
      "source": [
        "# fill na values\n",
        "def prep_1_fill_na(df):\n",
        "    df['product_action'] = df['product_action'].fillna('view')\n",
        "    return df"
      ]
    },
    {
      "attachments": {},
      "cell_type": "markdown",
      "id": "xcqAo-_1-CaY",
      "metadata": {
        "id": "xcqAo-_1-CaY"
      },
      "source": [
        "## Task 1.1: Create sessions (Group by session_id_hash) \n",
        "- Collect product_action, product_sku_hash and server_timestamp_epoch_ms in lists"
      ]
    },
    {
      "cell_type": "code",
      "execution_count": 10,
      "id": "charming-palestinian",
      "metadata": {
        "colab": {
          "base_uri": "https://localhost:8080/",
          "height": 391
        },
        "id": "charming-palestinian",
        "outputId": "03c61352-02a1-4d9d-cb26-367ef2100cae"
      },
      "outputs": [],
      "source": [
        "# group the dataset by sessions. This one saves the actions, products looked at and the timestamp in a list for each session\n",
        "def prep_2_group(df):\n",
        "    df = df.groupby('session_id_hash')[['product_action','product_sku_hash','server_timestamp_epoch_ms']].agg(list).reset_index()\n",
        "    return df"
      ]
    },
    {
      "cell_type": "code",
      "execution_count": 11,
      "id": "31156fc0",
      "metadata": {},
      "outputs": [],
      "source": [
        "# group the dataset by sessions. Only aggregate actions\n",
        "def prep_2_group_no_time(df):\n",
        "    df = df.groupby('session_id_hash')['product_action'].agg(list).reset_index()\n",
        "    return df"
      ]
    },
    {
      "attachments": {},
      "cell_type": "markdown",
      "id": "df51fcf2",
      "metadata": {},
      "source": [
        "## Task 1.2: Discard sessions with at least one add-to-cart"
      ]
    },
    {
      "cell_type": "code",
      "execution_count": 12,
      "id": "864397a9",
      "metadata": {},
      "outputs": [],
      "source": [
        "# This function removes every session that has no add actions\n",
        "# TODO ask if needed\n",
        "def prep_2_2_filterAdd(df):\n",
        "\n",
        "    df['add_count'] = np.where(df.product_action.map(set(['add']).issubset), 1, 0)\n",
        "    df = df[df['add_count'] > 0]\n",
        "    df = df.drop('add_count', axis=1)\n",
        "    df = df.reset_index(drop=True)\n",
        "\n",
        "    return df"
      ]
    },
    {
      "attachments": {},
      "cell_type": "markdown",
      "id": "Q2sNcX4F_Dm0",
      "metadata": {
        "id": "Q2sNcX4F_Dm0"
      },
      "source": [
        "## Task 1.3: Add BUY and No BUY Label"
      ]
    },
    {
      "cell_type": "code",
      "execution_count": 13,
      "id": "opponent-mozambique",
      "metadata": {
        "colab": {
          "base_uri": "https://localhost:8080/",
          "height": 391
        },
        "id": "opponent-mozambique",
        "outputId": "d8337a27-6cde-418e-836d-d442744fe8a1"
      },
      "outputs": [],
      "source": [
        "# add class label to each session (BUY V. NO-BUY)\n",
        "def prep_3_label(df):\n",
        "    df['purchase'] = np.where(df.product_action.map(set(['purchase']).issubset), 1, 0)\n",
        "    return df"
      ]
    },
    {
      "attachments": {},
      "cell_type": "markdown",
      "id": "V8U4ra_hSFcq",
      "metadata": {
        "id": "V8U4ra_hSFcq"
      },
      "source": [
        "## Task 1.4: Cut sessions before last purchase/buy"
      ]
    },
    {
      "attachments": {},
      "cell_type": "markdown",
      "id": "tph9loiXU-5A",
      "metadata": {
        "id": "tph9loiXU-5A"
      },
      "source": [
        "The code above is not very efficient nor tidy, but it's pretty transparent. How would you improve it? Consider solutions which improve \n",
        "- speed, especially with larger DataFrames;\n",
        "- tidyness, can you use Pandas routines and write less code? \n",
        "\n",
        "Think about this at home, play around and share your solution on the discussion board to complement what we discuss in class!"
      ]
    },
    {
      "cell_type": "code",
      "execution_count": 14,
      "id": "b60e63aa",
      "metadata": {
        "id": "b60e63aa"
      },
      "outputs": [],
      "source": [
        "# %%time\n",
        "# # cut BUY sessions to last event before purchase\n",
        "# sequence_action = []\n",
        "# for session in df['product_action']:\n",
        "#     if 'purchase' in set(session):\n",
        "#         for e in range(len(session)):\n",
        "#             if session[e] == 'purchase':\n",
        "#                 sequence_action.append(session[:e])\n",
        "#                 break\n",
        "#     else:\n",
        "#         sequence_action.append(session)\n",
        "# df['session'] = sequence_action\n",
        "# # df = df[['session_id_hash', 'session', 'purchase']]\n",
        "# # df.head()"
      ]
    },
    {
      "cell_type": "code",
      "execution_count": 15,
      "id": "5d2454cc",
      "metadata": {},
      "outputs": [],
      "source": [
        "# new code that cuts session before last buy. Also cuts timestamps\n",
        "def cutBeforeLastBuy_session(session, purchase):\n",
        "  # if no purchase: return the timestamps and actions without any cut\n",
        "  if purchase == 0:\n",
        "    return session\n",
        "\n",
        "  else:\n",
        "    for i in range(len(session)):\n",
        "      if session[i] == 'purchase':\n",
        "        return session[:i]\n",
        "\n",
        "def cutBeforeLastBuy_time(session, timestamps, purchase):\n",
        "  # if no purchase: return the timestamps and actions without any cut\n",
        "  if purchase == 0:\n",
        "    return  timestamps\n",
        "\n",
        "  else:\n",
        "    for i in range(len(session)):\n",
        "      if session[i] == 'purchase':\n",
        "        return timestamps[:i]\n",
        "\n",
        "def prep_4_cutBeforeLastBuy(df):\n",
        "  df['session'] = [cutBeforeLastBuy_session(session, purchase) for session, purchase in zip(df['product_action'], df['purchase'])]\n",
        "  \n",
        "  try:\n",
        "    df['server_timestamp_epoch_ms'] = [cutBeforeLastBuy_time(session, timestamps, purchase) for session, timestamps, purchase in zip(df['product_action'],df['server_timestamp_epoch_ms'], df['purchase'])]\n",
        "  except:\n",
        "    print('No time column')\n",
        "  df = df.drop('product_action',axis=1)\n",
        "  return df"
      ]
    },
    {
      "attachments": {},
      "cell_type": "markdown",
      "id": "264235c1",
      "metadata": {},
      "source": [
        "## Task 1.4 Cut session x after add to cart TODO "
      ]
    },
    {
      "cell_type": "code",
      "execution_count": 16,
      "id": "efe2ee20",
      "metadata": {},
      "outputs": [],
      "source": [
        "# new code that cuts session x actions after first add-to cart\n",
        "def cutBeforeAfterAdd_session(session, timestamps, keep_x_after_add):\n",
        "\n",
        "    for i in range(len(session)):\n",
        "        if session[i] == 'add':\n",
        "            return session[:i+keep_x_after_add+1]\n",
        "\n",
        "def cutBeforeAfterAdd_time(session, timestamps, keep_x_after_add):\n",
        "    for i in range(len(session)):\n",
        "        if session[i] == 'add':\n",
        "            return timestamps[:i+keep_x_after_add+1]\n",
        "\n",
        "def prep_4_cutAfterAdd(df, keep_x_after_add):\n",
        "  df['session'] = [cutBeforeAfterAdd_session(session, timestamps, keep_x_after_add) for session, timestamps in zip(df['product_action'],df['server_timestamp_epoch_ms'])]\n",
        "  df['server_timestamp_epoch_ms'] = [cutBeforeAfterAdd_time(session, timestamps, keep_x_after_add) for session, timestamps in zip(df['product_action'],df['server_timestamp_epoch_ms'])]\n",
        "  df = df.drop('product_action',axis=1)\n",
        "  return df"
      ]
    },
    {
      "cell_type": "code",
      "execution_count": 17,
      "id": "61749339",
      "metadata": {},
      "outputs": [],
      "source": [
        "# session = [\"view\", \"add\", \"view\", \"test\", \"view\", \"view\", \"view\", \"view\"] # -> [\"view\", \"view\", \"view\", \"view\", \"view\"]. Is this correct?\n",
        "\n",
        "# test = cutBeforeAfterAdd_session(session, None, 5)\n",
        "# test"
      ]
    },
    {
      "cell_type": "code",
      "execution_count": 18,
      "id": "027d6d52",
      "metadata": {},
      "outputs": [],
      "source": [
        "# show distribution of session length by label\n",
        "def prep_5_create_session_len(df):\n",
        "    df['session_len'] = [len(x) for x in df['session']] # df.session.map(len)\n",
        "    return df"
      ]
    },
    {
      "attachments": {},
      "cell_type": "markdown",
      "id": "announced-mattress",
      "metadata": {
        "id": "announced-mattress"
      },
      "source": [
        "## Task 1.5: Remove outliers"
      ]
    },
    {
      "cell_type": "code",
      "execution_count": 19,
      "id": "weighted-premiere",
      "metadata": {
        "colab": {
          "base_uri": "https://localhost:8080/",
          "height": 774
        },
        "id": "weighted-premiere",
        "outputId": "e1c1b89c-9dc6-4e91-fdf2-9edc156e9af4"
      },
      "outputs": [],
      "source": [
        "# removing very short and very long sessions\n",
        "def prep_6_remove_outliers(df, start, end):\n",
        "    df.drop(df[df.session_len < start].index, inplace=True)\n",
        "    df.drop(df[df.session_len > end].index, inplace=True)\n",
        "    return df"
      ]
    },
    {
      "attachments": {},
      "cell_type": "markdown",
      "id": "contained-chile",
      "metadata": {
        "id": "contained-chile"
      },
      "source": [
        "## Task 1.6: Symbolisation "
      ]
    },
    {
      "cell_type": "markdown",
      "id": "585f32f2",
      "metadata": {
        "id": "585f32f2"
      },
      "source": [
        "Question\n",
        "\n",
        "I mapped events to numbers based on event frequency. Is it the only possibility? If yes, why? If no, what other options are there and is one better?\n",
        "\n",
        "After symbolisation, each event is a number: should we actually treat them as numbers or not? why?"
      ]
    },
    {
      "cell_type": "code",
      "execution_count": 20,
      "id": "advanced-ghost",
      "metadata": {
        "id": "advanced-ghost"
      },
      "outputs": [],
      "source": [
        "\n",
        "\n",
        "# sessions = df['session'].to_list()\n",
        "# labels = df['purchase'].to_list()\n",
        "\n",
        "# counts = Counter([item for session in sessions for item in session])\n",
        "# # I'm not going to use it, but I'm saving the 0 for padding sessions when symbolising\n",
        "# symbol2idx = {symbol: idx for idx, symbol in enumerate(sorted(counts, key=counts.get, reverse=True), 1)}\n",
        "# print(symbol2idx)\n",
        "\n",
        "# symbolised_sessions = []\n",
        "# for idx, session in enumerate(sessions):\n",
        "#     symbolised_session = [symbol2idx[s] for s in session]\n",
        "#     symbolised_sessions.append(symbolised_session)\n",
        "# print(symbolised_sessions[:5])"
      ]
    },
    {
      "cell_type": "code",
      "execution_count": 21,
      "id": "00ae0c2b",
      "metadata": {},
      "outputs": [],
      "source": [
        "# sessionize the dataset\n",
        "def prep_7_sessionize(df_input):\n",
        "    \n",
        "    sessions = df_input['session'].to_list()\n",
        "    labels = df_input['purchase'].to_list()\n",
        "\n",
        "    counts = Counter([item for session in sessions for item in session])\n",
        "    # I'm not going to use it, but I'm saving the 0 for padding sessions when symbolising\n",
        "    symbol2idx = {symbol: idx for idx, symbol in enumerate(sorted(counts, key=counts.get, reverse=True), 1)}\n",
        "\n",
        "    symbolised_sessions = []\n",
        "    for idx, session in enumerate(sessions):\n",
        "        symbolised_session = [symbol2idx[s] for s in session]\n",
        "        symbolised_sessions.append(symbolised_session)\n",
        "    \n",
        "    return symbolised_sessions, labels"
      ]
    },
    {
      "attachments": {},
      "cell_type": "markdown",
      "id": "jDUHf1zmXuxR",
      "metadata": {
        "id": "jDUHf1zmXuxR"
      },
      "source": [
        "## Task 1.6: One Hot encoding of of n-gram actions"
      ]
    },
    {
      "cell_type": "code",
      "execution_count": 22,
      "id": "Ia3zXIiIudOL",
      "metadata": {
        "id": "Ia3zXIiIudOL"
      },
      "outputs": [],
      "source": [
        "# create column names for sequences of n-gram\n",
        "def create_n_grams_names(n, labels=['view', 'detail', 'add', 'remove']):\n",
        "    x_gram_labels = []\n",
        "    for combination in product(labels, repeat=n):\n",
        "        # x_gram_labels.append('c_' + '_'.join(combination))\n",
        "        x_gram_labels.append('_'.join(combination))\n",
        "    return x_gram_labels"
      ]
    },
    {
      "cell_type": "code",
      "execution_count": 23,
      "id": "hkVXLp1IvazI",
      "metadata": {
        "id": "hkVXLp1IvazI"
      },
      "outputs": [],
      "source": [
        "# this is my own code to create the n_gram actions\n",
        "def prep_7_create_n_grams(n_gram_len_max, df):\n",
        "  df1 = df.copy()\n",
        "  for n in range(1, n_gram_len_max + 1):\n",
        "    print('n_gram:',n)\n",
        "    \n",
        "    # create names for n_gram actions\n",
        "    sequence_names = create_n_grams_names(n)\n",
        "    \n",
        "    # create 0 entries\n",
        "    for action in sequence_names:\n",
        "      df1[action] = 0\n",
        "\n",
        "    # for n=1 just count occurrence of action in sessions\n",
        "    if n == 1:\n",
        "      for i, row in tqdm(df1.iterrows(), total=len(df1)):\n",
        "        for action in row['session']:\n",
        "            df1.at[i, action] += 1\n",
        "\n",
        "    # for n>1 count occurrence of consecutive actions in sessions e.g. ['view','detail'] for n=2\n",
        "    else:\n",
        "      for i, row in tqdm(df1.iterrows(), total=len(df1)):\n",
        "        actions = row['session']\n",
        "        for j in range(len(actions) - n + 1):\n",
        "            action_pair = actions[j:j+n]\n",
        "            df1.at[i, '_'.join(action_pair)] += 1\n",
        "\n",
        "  df1 = df1.reset_index(drop=True)\n",
        "  return df1"
      ]
    },
    {
      "attachments": {},
      "cell_type": "markdown",
      "id": "c6f11e84",
      "metadata": {
        "id": "c6f11e84"
      },
      "source": [
        "## Task 3: Normalize row wise for each n-gram (advantage that model generalizes better and is independent of length of session)\n",
        "- e.g. over n=1 ['view', 'detail', 'add', 'remove'] -> row sum=1\n",
        "- and over n=2 ['view_view',  'view_detail',  'view_add',  'view_remove',  'detail_view',  'detail_detail',  'detail_add' ..."
      ]
    },
    {
      "cell_type": "code",
      "execution_count": 24,
      "id": "d8304fc4",
      "metadata": {
        "colab": {
          "base_uri": "https://localhost:8080/",
          "height": 468
        },
        "id": "d8304fc4",
        "outputId": "b2729551-9d0c-46ee-ca84-e8bddff47eea"
      },
      "outputs": [],
      "source": [
        "# Run the normalizeaion\n",
        "def normalize_df(df, columns):\n",
        "    # Select the specified columns from the dataframe\n",
        "    df_norm = df[columns].div(df[columns].sum(axis=1), axis=0)\n",
        "    \n",
        "    # Round each value to the third decimal place\n",
        "    df_norm = df_norm.round(2)\n",
        "    \n",
        "    # Merge the normalized columns with the non-normalized columns\n",
        "    df = pd.concat([df_norm, df.drop(columns, axis=1)], axis=1)\n",
        "    return df\n",
        "\n",
        "# run the normalization for each n-gram indipendent\n",
        "def prep_8_create_n_grams_normalized(n_gram_len_max, df):\n",
        "    # Do the normalizaiton for each n-gram\n",
        "    for n in range(1, n_gram_len_max + 1):\n",
        "        sequence_names = create_n_grams_names(n)\n",
        "        print('n-gram:',n)\n",
        "        df = normalize_df(df, sequence_names)\n",
        "    return df"
      ]
    },
    {
      "cell_type": "markdown",
      "id": "6ff28c9c",
      "metadata": {
        "id": "6ff28c9c"
      },
      "source": [
        "### Find out how many transitions are never found"
      ]
    },
    {
      "cell_type": "code",
      "execution_count": 25,
      "id": "4c05dd05",
      "metadata": {
        "id": "4c05dd05"
      },
      "outputs": [],
      "source": [
        "# search for n_gram columns that have a high percentage of empty values. removes these columns\n",
        "def prep_9_remove_empty_ngrams(df, n_gram_len_max, empty_cut):\n",
        "\n",
        "    # collect all n-gram transition names\n",
        "    all_n_gram_columns = []\n",
        "    for n in range(1, n_gram_len_max + 1):\n",
        "        sequence_names = create_n_grams_names(n)\n",
        "        all_n_gram_columns = all_n_gram_columns+sequence_names\n",
        "    \n",
        "    # create statistics how often the frequency of the distribution in the n-gram is 0\n",
        "    dict_0s = {}\n",
        "    for column in all_n_gram_columns:\n",
        "        column_entries = np.array(df[column])\n",
        "        column_num_0s = len(df) - np.count_nonzero(column_entries)\n",
        "        percentage_0 = np.round(column_num_0s/len(df)*100,2)\n",
        "        # print(\"Percentage of 0 values:\",column,'\\t\\t', percentage_0)\n",
        "        dict_0s[column] = percentage_0\n",
        "\n",
        "    # px.bar(x=dict_0s.keys(),y=dict_0s.values())\n",
        "\n",
        "    all_n_gram_columns_left = []\n",
        "\n",
        "    # remove every colummn where percentage of 0 values is above 99%\n",
        "    print('Number of columns before removing empty n_grams:',len(df.columns))\n",
        "    for key, values in dict_0s.items():\n",
        "        if values > empty_cut:\n",
        "            # print(\"Remove column:\",key, 'because',values,'% are 0 values')\n",
        "            df = df.drop(key, axis=1)\n",
        "        else:\n",
        "            all_n_gram_columns_left.append(key)\n",
        "    print('Number of columns after removing empty n_grams:',len(df.columns))\n",
        "\n",
        "\n",
        "    return df, all_n_gram_columns_left"
      ]
    },
    {
      "cell_type": "code",
      "execution_count": 26,
      "id": "f93b90d6",
      "metadata": {},
      "outputs": [],
      "source": [
        "# removes the same columns in the validation set that are removed in the training set\n",
        "def prep_9_remove_empty_ngrams_not_in_training(df, n_gram_len_max, columns_keep_n_gram):\n",
        "\n",
        "    # collect all n-gram transition names\n",
        "    all_n_gram_columns = []\n",
        "    for n in range(1, n_gram_len_max + 1):\n",
        "        sequence_names = create_n_grams_names(n)\n",
        "        all_n_gram_columns = all_n_gram_columns+sequence_names\n",
        "\n",
        "    for column in all_n_gram_columns:\n",
        "        if column not in columns_keep_n_gram:\n",
        "            df = df.drop(column, axis=1)\n",
        "\n",
        "    return df, columns_keep_n_gram"
      ]
    },
    {
      "attachments": {},
      "cell_type": "markdown",
      "id": "QD54tj9V_S7M",
      "metadata": {
        "id": "QD54tj9V_S7M"
      },
      "source": [
        "## Task 3: Feature Engineering Datetime"
      ]
    },
    {
      "attachments": {},
      "cell_type": "markdown",
      "id": "2ba25b9c",
      "metadata": {
        "id": "2ba25b9c"
      },
      "source": [
        "### Transform milliseconds into datetime object"
      ]
    },
    {
      "cell_type": "code",
      "execution_count": 27,
      "id": "DJ1POGSRBGD5",
      "metadata": {
        "id": "DJ1POGSRBGD5"
      },
      "outputs": [],
      "source": [
        "# transform server_timestamp_epoch_ms into datetimes\n",
        "def timestamps_ms_into_datetime(timestamps_ms):\n",
        "  timestamps_datetime = []\n",
        "  for timestamp_ms in timestamps_ms:\n",
        "    timestamps_datetime.append(datetime.datetime.fromtimestamp(timestamp_ms / 1000.0, tz=datetime.timezone.utc))\n",
        "  return timestamps_datetime\n",
        "  \n",
        "# test the function\n",
        "# timestamps_ms_into_datetime(df['server_timestamp_epoch_ms'][0])"
      ]
    },
    {
      "cell_type": "code",
      "execution_count": 28,
      "id": "K1C_RDrf_7nk",
      "metadata": {
        "id": "K1C_RDrf_7nk"
      },
      "outputs": [],
      "source": [
        "# transform milli seconds into timestamps\n",
        "def prep_10_datetime_transformation(df):\n",
        "    df['timestamps'] = [timestamps_ms_into_datetime(timestamps_ms) for timestamps_ms in df['server_timestamp_epoch_ms'] ]\n",
        "    df = df.drop('server_timestamp_epoch_ms', axis=1)\n",
        "    return df"
      ]
    },
    {
      "cell_type": "markdown",
      "id": "fLd2sIlKD_Ex",
      "metadata": {
        "id": "fLd2sIlKD_Ex"
      },
      "source": [
        "#### Add the First action"
      ]
    },
    {
      "cell_type": "code",
      "execution_count": 29,
      "id": "dNVFVtnEEAOv",
      "metadata": {
        "id": "dNVFVtnEEAOv"
      },
      "outputs": [],
      "source": [
        "# extract time of the first action \n",
        "def first_action(timestamps):\n",
        "  return timestamps[0]\n",
        "\n",
        "def prep_11_datetime(df):\n",
        "  df['timestamp_first'] = [first_action(timestamps) for timestamps in df['timestamps'] ]\n",
        "  return df"
      ]
    },
    {
      "cell_type": "markdown",
      "id": "bHdrsEpSE12d",
      "metadata": {
        "id": "bHdrsEpSE12d"
      },
      "source": [
        "#### Weekday, Weekend"
      ]
    },
    {
      "cell_type": "code",
      "execution_count": 30,
      "id": "YAPzAe7fFKL0",
      "metadata": {
        "id": "YAPzAe7fFKL0"
      },
      "outputs": [],
      "source": [
        "# Create feature weekend or no weekend\n",
        "def weekend(timestamp):\n",
        "  if timestamp < 5:\n",
        "    return 0\n",
        "  else:  # 5 Sat, 6 Sun\n",
        "    return 1\n",
        "\n",
        "# Extract the day of the week\n",
        "def prep_12_weekend_weekday_hour(df):\n",
        "  df['timestamp_weekday'] = [timestamp_first.weekday() for timestamp_first in df['timestamp_first'] ] # weekday\n",
        "  df['timestamp_weekend'] = [weekend(weekday) for weekday in df['timestamp_weekday'] ] # weekend flag\n",
        "  df['timestamp_hour_of_day'] = [timestamp_first.hour for timestamp_first in df['timestamp_first'] ] # #### Time of the day (current hour)\n",
        "  return df"
      ]
    },
    {
      "cell_type": "markdown",
      "id": "TNRxfFONrgo5",
      "metadata": {
        "id": "TNRxfFONrgo5"
      },
      "source": [
        "#### Total time elapse"
      ]
    },
    {
      "cell_type": "code",
      "execution_count": 31,
      "id": "_-uNfAAHrjBf",
      "metadata": {
        "id": "_-uNfAAHrjBf"
      },
      "outputs": [],
      "source": [
        "# Extract the time a session takes (how long the user in on the webpage)\n",
        "def time_elapsed_minutes(timestamps):\n",
        "  # print(timestamps)\n",
        "  time_delta = timestamps[-1] - timestamps[0]\n",
        "  time_delta_min = time_delta.total_seconds()/60\n",
        "  # print(time_delta_min)\n",
        "  return np.round(time_delta_min,2)\n",
        "\n",
        "def prep_13_time_elapsed(df):\n",
        "  df['timestamp_total_session_length_minutes'] = [time_elapsed_minutes(timestamps) for timestamps in df['timestamps'] ]\n",
        "  return df"
      ]
    },
    {
      "cell_type": "markdown",
      "id": "pGHzn05tDDAE",
      "metadata": {
        "id": "pGHzn05tDDAE"
      },
      "source": [
        "#### Extract average time elapsed between actions (dwell time)"
      ]
    },
    {
      "cell_type": "code",
      "execution_count": 32,
      "id": "hdw2U8yeGIOX",
      "metadata": {
        "id": "hdw2U8yeGIOX"
      },
      "outputs": [],
      "source": [
        "# extract the time a user takes on average to make the next klick\n",
        "def averageTimeElapsed_in_minutes(timestamps):\n",
        "  time_deltas = []\n",
        "  for start, end in zip(timestamps[:-1], timestamps[1:]):\n",
        "    time_deltas.append(end-start)\n",
        "  \n",
        "  time_deltas_minutes= [time_delta.total_seconds()/60 for time_delta in time_deltas]\n",
        "  if len(time_deltas) == 0:\n",
        "    return 0\n",
        "  else:\n",
        "    return np.round(sum(time_deltas_minutes) / len(time_deltas),2)\n",
        "\n",
        "def prep_14_dwell(df):\n",
        "  df['timestamp_dwell_length_minutes'] = [averageTimeElapsed_in_minutes(timestamps) for timestamps in df['timestamps']]\n",
        "  return df\n"
      ]
    },
    {
      "attachments": {},
      "cell_type": "markdown",
      "id": "jBOs3fOfKHGW",
      "metadata": {
        "id": "jBOs3fOfKHGW"
      },
      "source": [
        "## Task 3: Feature Engineering product data (product_sku_hash)"
      ]
    },
    {
      "cell_type": "code",
      "execution_count": 33,
      "id": "LhnwVj4kMB5W",
      "metadata": {
        "id": "LhnwVj4kMB5W"
      },
      "outputs": [],
      "source": [
        "# Create feature where the number of product actions is counted\n",
        "def prep_15_count_product_viewed(df):\n",
        "    # remove nan values from df['product_sku_hash'] # thanks @chatGPT\n",
        "    df['product_sku_hash'] = [[product for product in sublist if str(product) != 'nan'] for sublist in list(df['product_sku_hash'])]\n",
        "\n",
        "    # count how many product events happend and add them as a feature\n",
        "    df['count_product_events'] = [len(products) for products in df['product_sku_hash']] \n",
        "    \n",
        "    return df"
      ]
    },
    {
      "attachments": {},
      "cell_type": "markdown",
      "id": "826f22f7",
      "metadata": {},
      "source": [
        "## Filter the features"
      ]
    },
    {
      "cell_type": "code",
      "execution_count": 34,
      "id": "a3c43031",
      "metadata": {},
      "outputs": [],
      "source": [
        "# Extract the important column needed for the classification task\n",
        "def prep_16_filterColumns(df, all_n_gram_columns_left): \n",
        "    target_column = ['purchase']\n",
        "    feature_columns = all_n_gram_columns_left + ['session_len']+['timestamp_weekday']+['timestamp_weekend']+['timestamp_hour_of_day']+['timestamp_total_session_length_minutes']+['timestamp_dwell_length_minutes']+['count_product_events']\n",
        "    df_features = df[feature_columns]\n",
        "    df_labels = df[target_column]\n",
        "    return df_features, df_labels"
      ]
    },
    {
      "attachments": {},
      "cell_type": "markdown",
      "id": "b26641c6",
      "metadata": {},
      "source": [
        "# Basic data pipeline"
      ]
    },
    {
      "cell_type": "code",
      "execution_count": 35,
      "id": "23d28c25",
      "metadata": {},
      "outputs": [],
      "source": [
        "# hyperparameter\n",
        "outlier_start = 5\n",
        "outlier_end = 155"
      ]
    },
    {
      "cell_type": "code",
      "execution_count": 36,
      "id": "2a9053cc",
      "metadata": {},
      "outputs": [
        {
          "name": "stdout",
          "output_type": "stream",
          "text": [
            "Start data pipeline\n",
            "Perform preprocessing step: 1 (Filling na with view)\n",
            "Perform preprocessing step: 2 (Grouping by session):\n",
            "Perform preprocessing step: 2.2 (Filtering df -> at least one add needs to be included)\n",
            "Perform preprocessing step: 3 (Creating buy or no buy label)\n",
            "Perform preprocessing step: 4 (Cut data before last buy)\n",
            "No time column\n",
            "Perform preprocessing step: 5 (Create feature: Session length)\n",
            "Perform preprocessing step: 6 (Remove outliers based on session length)\n",
            "Perform preprocessing step: 7 (Sessionize data)\n"
          ]
        }
      ],
      "source": [
        "print('Start data pipeline')\n",
        "print('Perform preprocessing step: {} (Filling na with view)'.format(1))\n",
        "df_b = prep_1_fill_na(copy.deepcopy(df_raw.copy()))\n",
        "\n",
        "print('Perform preprocessing step: {} (Grouping by session):'.format(2))\n",
        "df_b = prep_2_group_no_time(df_b)\n",
        "\n",
        "# TODO ask for remove add\n",
        "print('Perform preprocessing step: {} (Filtering df -> at least one add needs to be included)'.format(2.2))\n",
        "df_b = prep_2_2_filterAdd(df_b)\n",
        "\n",
        "print('Perform preprocessing step: {} (Creating buy or no buy label)'.format(3))\n",
        "df_b = prep_3_label(df_b)\n",
        "\n",
        "print('Perform preprocessing step: {} (Cut data before last buy)'.format(4))\n",
        "df_b = prep_4_cutBeforeLastBuy(df_b)\n",
        "\n",
        "print('Perform preprocessing step: {} (Create feature: Session length)'.format(5))\n",
        "df_b = prep_5_create_session_len(df_b)\n",
        "\n",
        "print('Perform preprocessing step: {} (Remove outliers based on session length)'.format(6))\n",
        "df_b = prep_6_remove_outliers(df_b, outlier_start, outlier_end)\n",
        "\n",
        "print('Perform preprocessing step: {} (Sessionize data)'.format(7))\n",
        "symbolised_sessions, labels = prep_7_sessionize(df_b)\n"
      ]
    },
    {
      "cell_type": "code",
      "execution_count": 37,
      "id": "7b51f1ba",
      "metadata": {},
      "outputs": [],
      "source": [
        "json.dump(symbolised_sessions, open(os.path.join(DATA_FOLDER_PREPROCESSING,\"symbolised_sessions.json\"), \"w\"))\n",
        "json.dump(labels, open(os.path.join(DATA_FOLDER_PREPROCESSING,\"labels.json\"), \"w\"))"
      ]
    },
    {
      "cell_type": "code",
      "execution_count": 38,
      "id": "6b4421de",
      "metadata": {},
      "outputs": [],
      "source": [
        "symbolised_sessions = json.load(open(os.path.join(DATA_FOLDER_PREPROCESSING,'symbolised_sessions.json'), 'r'))\n",
        "labels = json.load(open(os.path.join(DATA_FOLDER_PREPROCESSING,'labels.json'), 'r'))"
      ]
    },
    {
      "attachments": {},
      "cell_type": "markdown",
      "id": "613cbbd5",
      "metadata": {},
      "source": [
        "# EDA"
      ]
    },
    {
      "cell_type": "code",
      "execution_count": 39,
      "id": "f8a35024",
      "metadata": {},
      "outputs": [
        {
          "name": "stdout",
          "output_type": "stream",
          "text": [
            "Training_symbolised_sessions: [[1, 2, 3, 1, 1, 1, 1, 1, 1, 1, 2, 1, 1, 2, 1, 1, 2, 1], [2, 1, 2, 1, 2, 1, 1, 2, 1, 1, 1, 2, 2, 1, 2, 1, 1, 2, 2, 1, 1, 2, 3, 2, 1, 2, 1, 2, 1, 2, 1, 1, 1, 1, 2, 1, 3, 1, 1, 1, 1, 1, 2, 1, 1, 2, 3, 1, 1, 1, 1, 1, 1, 4, 1, 1, 1, 1, 1, 1, 1, 1, 1, 1, 1, 1, 1, 1, 1, 1, 1, 1, 1, 1, 1, 2, 1, 1, 1, 2, 3], [1, 1, 1, 2, 1, 1, 2, 1, 1, 1, 1, 2, 1, 1, 1, 1, 2, 1, 3, 1, 2, 1, 1, 1, 2, 1, 2, 1, 3, 1, 1, 1, 1, 2, 1, 1, 2, 1, 1, 1, 2, 1, 3, 1, 1, 1, 1, 1, 1, 2, 1, 1, 2, 1, 1, 1, 2, 3, 1, 1, 2, 1, 2, 1, 1, 1, 1, 1, 1, 1, 1, 2, 3, 1, 2, 1, 3, 1, 1, 2, 3, 1, 1, 2, 3, 1, 1, 1, 1, 1, 1, 1, 2, 1, 1, 2, 3, 1, 1, 1, 1, 1, 2, 1, 3, 1, 1, 4, 1, 2, 1, 1, 1, 2, 1, 2, 1, 1, 4, 1, 1, 2, 1, 2, 1, 1, 2, 1, 1, 4, 1, 2, 1, 1, 1, 2, 1, 4, 1], [1, 1, 1, 2, 1, 1, 1, 1, 1, 1, 2, 1, 1, 1, 1, 2, 3, 1, 1, 1, 1, 1, 1, 1, 1, 2, 1, 3, 1, 1, 2, 1, 1, 1, 2, 1, 2, 1, 1, 1, 1], [1, 2, 3, 1, 1, 2, 3, 1, 1, 1, 1, 1, 1, 1, 1, 1], [1, 1, 1, 1, 2, 3, 4, 1, 2, 1, 1, 1, 4, 4, 4, 1, 1, 4, 1, 4, 1, 4, 4, 4, 4, 4, 4, 4, 1], [1, 2, 1, 1, 1, 1, 1, 1, 1, 1, 1, 1, 2, 3, 4, 1, 4, 3, 4, 1, 4, 1, 4, 4, 4, 1, 1, 4, 1, 1, 1, 1, 4, 1, 4, 1, 4, 4, 4, 4, 4, 4, 4, 4], [1, 1, 1, 1, 2, 1, 1, 2, 1, 1, 2, 1, 1, 1, 1, 2, 2, 1, 1, 2, 3, 1, 1, 1, 1, 1, 2, 1, 1, 2, 3, 4, 1], [1, 2, 2, 1, 3, 1, 1, 1, 1, 1, 1, 1, 1, 1, 2, 1, 2, 1], [1, 2, 3, 1, 4, 3, 4, 1, 1, 1, 2, 1, 2, 1, 2, 1, 1, 2, 1, 2, 1, 2, 2, 1, 1, 2, 1, 1]]\n",
            "Training_labels: [0, 0, 0, 0, 0, 1, 1, 0, 0, 0]\n"
          ]
        }
      ],
      "source": [
        "print('Training_symbolised_sessions:',symbolised_sessions[:10])\n",
        "print('Training_labels:',labels[:10])"
      ]
    },
    {
      "cell_type": "code",
      "execution_count": 40,
      "id": "165daf78",
      "metadata": {},
      "outputs": [],
      "source": [
        "# extract buy and wait sessions\n",
        "buy_sessions, ws_sessions = [], []\n",
        "for session, label in zip(symbolised_sessions, labels):\n",
        "    if label == 1:\n",
        "        buy_sessions.append(session)\n",
        "    else:\n",
        "        ws_sessions.append(session)"
      ]
    },
    {
      "cell_type": "code",
      "execution_count": 41,
      "id": "b03ed4d6",
      "metadata": {},
      "outputs": [
        {
          "name": "stdout",
          "output_type": "stream",
          "text": [
            "events_buy Counter({1: 792996, 2: 211345, 4: 94577, 3: 61120})\n",
            "events_ws Counter({1: 2218768, 2: 797000, 3: 185752, 4: 122860})\n"
          ]
        }
      ],
      "source": [
        "# proportion of events in the two classes\n",
        "events_buy = Counter([event for session in buy_sessions for event in session]) #Counts of events in buy session\n",
        "events_ws = Counter([event for session in ws_sessions for event in session])\n",
        "\n",
        "print('events_buy',events_buy)\n",
        "print('events_ws',events_ws)"
      ]
    },
    {
      "cell_type": "code",
      "execution_count": 42,
      "id": "6e605c1f",
      "metadata": {},
      "outputs": [
        {
          "name": "stdout",
          "output_type": "stream",
          "text": [
            "events_buy {1: 0.6835948477549874, 2: 0.18218799728974397, 3: 0.052687929188526585, 4: 0.08152922576674212}\n",
            "events_ws {1: 0.6674230984424163, 2: 0.23974395225575898, 3: 0.05587568208207245, 4: 0.03695726721975225}\n"
          ]
        }
      ],
      "source": [
        "def normalise(d):\n",
        "    tot = sum(d.values())\n",
        "    return {event: count/tot for event, count in d.items()}\n",
        "\n",
        "events_buy = normalise(events_buy)\n",
        "events_ws = normalise(events_ws)\n",
        "\n",
        "print('events_buy',events_buy)\n",
        "print('events_ws',events_ws)"
      ]
    },
    {
      "cell_type": "code",
      "execution_count": 43,
      "id": "e8350917",
      "metadata": {},
      "outputs": [
        {
          "name": "stdout",
          "output_type": "stream",
          "text": [
            "1: 0.016171749312571038\n",
            "2: -0.05755595496601501\n",
            "3: -0.0031877528935458643\n",
            "4: 0.04457195854698987\n"
          ]
        }
      ],
      "source": [
        "# difference of event proporitons (buying vs. looking events)\n",
        "{'view': 1, 'detail': 2, 'add': 3, 'remove': 4}\n",
        "\n",
        "# 3,4 (more in buying sessions)\n",
        "for event, prop in events_buy.items():\n",
        "    print('{}: {}'.format(event, prop-events_ws[event]))\n",
        "# 1: in viewing sessions more viewing events (~3%)\n",
        "# 2: in viewing sessions more detail investigation events (~9%)\n",
        "# 3: in buying sessions more adding events (~4%)\n",
        "# 4: in buying sessions more remove from cart events (~8%)"
      ]
    },
    {
      "attachments": {},
      "cell_type": "markdown",
      "id": "b23fbef8",
      "metadata": {},
      "source": [
        "## EDA Visuals"
      ]
    },
    {
      "cell_type": "code",
      "execution_count": 44,
      "id": "9557f4f4",
      "metadata": {},
      "outputs": [],
      "source": [
        "# unigram transitions in the two classes\n",
        "\n",
        "def get_transitions(sessions):\n",
        "    n_events = len(set(item for session in sessions for item in session))\n",
        "    transitions = np.zeros((n_events, n_events))\n",
        "    for session in sessions:\n",
        "        for i, event in enumerate(session):\n",
        "            try:\n",
        "                transitions[event-1, session[i+1]-1] += 1\n",
        "            except IndexError:\n",
        "                pass\n",
        "            \n",
        "    row_sums = transitions.sum(axis=1)\n",
        "            \n",
        "    return transitions / row_sums[:, np.newaxis]\n",
        "            \n",
        "transitions_buy = get_transitions(buy_sessions)\n",
        "transitions_ws = get_transitions(ws_sessions)"
      ]
    },
    {
      "cell_type": "code",
      "execution_count": 45,
      "id": "61d40631",
      "metadata": {},
      "outputs": [
        {
          "data": {
            "image/png": "[encoded data removed]",
            "text/plain": [
              "<Figure size 640x480 with 2 Axes>"
            ]
          },
          "metadata": {
            "needs_background": "light"
          },
          "output_type": "display_data"
        }
      ],
      "source": [
        "labels_view = ['view', 'detail', 'add', 'remove']\n",
        "\n",
        "figure(figsize=(8, 6), dpi=80)\n",
        "ax = plt.axes()\n",
        "\n",
        "sns.heatmap(transitions_buy, cmap='Blues', xticklabels=labels_view, yticklabels=labels_view)\n",
        "ax.set_title('Transition probabilities from Y-axis to X-axis for buying sessions')\n",
        "ax.set_xlabel('Ending action (row probability sums up to 1)')\n",
        "ax.set_ylabel('Starting action')\n",
        "\n",
        "plt.show()"
      ]
    },
    {
      "cell_type": "code",
      "execution_count": 46,
      "id": "16395259",
      "metadata": {},
      "outputs": [
        {
          "data": {
            "image/png": "[encoded data removed]",
            "text/plain": [
              "<Figure size 640x480 with 2 Axes>"
            ]
          },
          "metadata": {
            "needs_background": "light"
          },
          "output_type": "display_data"
        }
      ],
      "source": [
        "figure(figsize=(8, 6), dpi=80)\n",
        "ax = plt.axes()\n",
        "sns.heatmap(transitions_ws, cmap='Reds',xticklabels=labels_view, yticklabels=labels_view)\n",
        "ax.set_title('Transition probabilities from Y-axis to X-axis for viewing sessions')\n",
        "ax.set_xlabel('Ending action')\n",
        "ax.set_ylabel('Starting action')\n",
        "plt.show()"
      ]
    },
    {
      "cell_type": "code",
      "execution_count": 47,
      "id": "8380e702",
      "metadata": {},
      "outputs": [
        {
          "data": {
            "image/png": "[encoded data removed]",
            "text/plain": [
              "<Figure size 640x480 with 2 Axes>"
            ]
          },
          "metadata": {
            "needs_background": "light"
          },
          "output_type": "display_data"
        }
      ],
      "source": [
        "figure(figsize=(8, 6), dpi=80)\n",
        "ax = plt.axes()\n",
        "sns.heatmap(transitions_buy - transitions_ws, cmap='vlag', xticklabels=labels_view, yticklabels=labels_view)\n",
        "ax.set_title('Difference of transition probabilities \\nfor buying sesissions - viewing sessions\\nNegative probability = higher probability of transition in viewing session')\n",
        "ax.set_xlabel('Ending action')\n",
        "ax.set_ylabel('Starting action')\n",
        "plt.show()"
      ]
    },
    {
      "cell_type": "code",
      "execution_count": null,
      "id": "a5c95db0",
      "metadata": {},
      "outputs": [],
      "source": [
        "axes = 'log'\n",
        "df_b_dummy = df_b\n",
        "df_b_dummy['dummy_count'] = 1\n",
        "\n",
        "fig = px.histogram(df_b, x=\"session_len\", y=\"dummy_count\", color=\"purchase\",\n",
        "                   marginal=\"box\", # or violin, rug\n",
        "                   barmode=\"group\",\n",
        "                   title = \"Distribution of View Events Based on Purchase and Session Length\"\n",
        "                   #hover_data=df.columns)\n",
        ")\n",
        "\n",
        "fig.update_layout(xaxis_title=\"Session Length\",\n",
        "                  yaxis_title=\"Occurrence of scenarios\")\n",
        "\n",
        "if axes == 'log':\n",
        "    fig.update_layout(yaxis=dict(type='log'), \n",
        "                      yaxis_title=\"Occurrence of scenarios on log scale\")\n",
        "if axes == 'normalized':\n",
        "    fig.update_layout(yaxis_title=\"Normalized frequency of scenarios\")\n",
        "del df_b_dummy\n",
        "\n",
        "fig.show()"
      ]
    },
    {
      "attachments": {},
      "cell_type": "markdown",
      "id": "93a8adb4",
      "metadata": {},
      "source": [
        "# Task 4: Oracle Model"
      ]
    },
    {
      "cell_type": "code",
      "execution_count": 49,
      "id": "64038e27",
      "metadata": {},
      "outputs": [],
      "source": [
        "# TODO after deadline run oracle model for true test labels\n",
        "# TODO save predictions one oracle for 5-event sessions, one for 10-event sessions, one for 15-event sessions"
      ]
    },
    {
      "cell_type": "code",
      "execution_count": 50,
      "id": "d4d2ed85",
      "metadata": {},
      "outputs": [
        {
          "name": "stdout",
          "output_type": "stream",
          "text": [
            "Max oracle validation Accuracy: 0.7626%\n",
            "Max oracle validation F1: 0.0%\n"
          ]
        }
      ],
      "source": [
        "def computeOracle(oracle_sessions, oracle_labels):\n",
        "\n",
        "    # create counter for each feature\n",
        "    d = defaultdict(lambda: defaultdict(int))\n",
        "    for session, label in zip(oracle_sessions, oracle_labels):\n",
        "        d[str(tuple(session))][label] += 1\n",
        "\n",
        "    oracle = {}\n",
        "    oracle_actual = []\n",
        "    oracle_prediction = []\n",
        "\n",
        "    for i, (key, value) in enumerate(d.items()):\n",
        "\n",
        "        oracle[key] = {}\n",
        "        oracle[key]['SumSessions'] = value[0] + value[1]\n",
        "        oracle[key]['SumNegative'] = value[0] \n",
        "        oracle[key]['SumPositive'] = value[1]\n",
        "\n",
        "        # majority vote prediction\n",
        "        if oracle[key]['SumNegative'] >= oracle[key]['SumPositive']:\n",
        "            oracle_prediction.extend([0]*oracle[key]['SumSessions'])\n",
        "        else:\n",
        "            oracle_prediction.extend([0]*oracle[key]['SumSessions'])\n",
        "\n",
        "        if oracle[key]['SumNegative'] > 0:\n",
        "            oracle_actual.extend([0]*oracle[key]['SumNegative'])\n",
        "        if oracle[key]['SumPositive'] > 0:\n",
        "            oracle_actual.extend([1]*oracle[key]['SumPositive'])\n",
        "    acc = accuracy_score(oracle_actual, oracle_prediction)\n",
        "    f1 = f1_score(oracle_actual, oracle_prediction)\n",
        "\n",
        "    print('Max oracle validation Accuracy: {}%'.format(round(acc,5)))\n",
        "    print('Max oracle validation F1: {}%'.format(round(f1,5)))\n",
        "\n",
        "    return oracle_prediction, acc, f1\n",
        "\n",
        "oracle_prediction, acc, f1 = computeOracle(symbolised_sessions, labels)"
      ]
    },
    {
      "cell_type": "code",
      "execution_count": 51,
      "id": "fe9eaaa5",
      "metadata": {},
      "outputs": [],
      "source": [
        "# predictions_group[groupID]_oracle_at{5|10|15}.json\n",
        "def saveSubmissionPredictionOracle(predictions, name):\n",
        "    json_save = {}\n",
        "    for i in range(len(predictions)):\n",
        "        json_save[str(i)] = int(predictions[i])\n",
        "\n",
        "    json.dump(json_save, open(os.path.join(DATA_FOLDER_SUBMISSION,name), \"w\"))"
      ]
    },
    {
      "cell_type": "code",
      "execution_count": 52,
      "id": "a30e4f14",
      "metadata": {},
      "outputs": [],
      "source": [
        "test_5 = json.load(open(os.path.join(DATA_FOLDER_TEST_DATA,'test_sessions_5.json'),\"r\")) # index , session\n",
        "test_10 = json.load(open(os.path.join(DATA_FOLDER_TEST_DATA,'test_sessions_10.json'),\"r\")) # index , session\n",
        "test_15 = json.load(open(os.path.join(DATA_FOLDER_TEST_DATA,'test_sessions_15.json'),\"r\")) # index , session"
      ]
    },
    {
      "cell_type": "code",
      "execution_count": 53,
      "id": "d6a1067b",
      "metadata": {},
      "outputs": [],
      "source": [
        "# weighted acc\n",
        "\n",
        "# oracle = {}\n",
        "\n",
        "# for i, (key, value) in enumerate(d.items()):\n",
        "#     # if i < 13:\n",
        "#     #     continue\n",
        "#     # if i == 13:\n",
        "#     #     value[0] = 1\n",
        "#     #     value[1] = 2\n",
        "\n",
        "#     # print(i, value[0], value[1])\n",
        "\n",
        "#     oracle[key] = {}\n",
        "#     oracle[key]['SumSessions'] = value[0] + value[1]\n",
        "#     oracle[key]['SumNegative'] = value[0] \n",
        "#     oracle[key]['SumPositive'] = value[1]\n",
        "\n",
        "#     oracle[key]['PositiveRatio'] =  value[0] / (value[0] + value[1])\n",
        "#     oracle[key]['NegativeRatio'] =  value[0] / (value[0] + value[1])\n",
        "    \n",
        "#     oracle[key]['MaxACC'] = max(oracle[key]['NegativeRatio'], oracle[key]['PositiveRatio'])\n",
        "\n",
        "#     oracle[key]['PredictionProbability'] = value[1] / (value[0] + value[1])\n",
        "#     oracle[key]['Prediction'] = int(oracle[key]['PredictionProbability'] >= 0.5)\n",
        "\n",
        "\n",
        "#     # oracle['count']\n",
        "#     # if i == 15:\n",
        "#     #     break\n",
        "\n",
        "\n",
        "# SumItems = 0\n",
        "# BestAccuracyWeighted = 0\n",
        "# for i, (key, value) in enumerate(oracle.items()):\n",
        "#     SumItems += value['SumSessions']\n",
        "#     BestAccuracyWeighted += value['MaxACC']*value['SumSessions']\n",
        "\n",
        "# oracle_weighted_accuracy =  BestAccuracyWeighted/SumItems\n",
        "# print('The weighted accuracy the oracle model can achieve is: {}%'.format(round(oracle_accuracy*100,2)))"
      ]
    },
    {
      "cell_type": "code",
      "execution_count": 54,
      "id": "171ee963",
      "metadata": {},
      "outputs": [],
      "source": [
        "# example from class\n",
        "\n",
        "# oracle = {}\n",
        "# for session in d.keys():\n",
        "#     n_buy, n_ws = 0, 0\n",
        "#     for label in d[session].keys():\n",
        "#         if label:\n",
        "#             n_buy += d[session][label]\n",
        "#         else:\n",
        "#             n_ws += d[session][label]\n",
        "#     oracle[session] = n_buy / (n_buy + n_ws)\n",
        "    \n",
        "# print(list(oracle.items())[:10])\n",
        "# # if 0 -> upper bound is 100% acc\n",
        "# # if 0.5 -> upper bound is 0% acc\n",
        "# # if 0.5 -> upper bound is 100% acc"
      ]
    },
    {
      "cell_type": "code",
      "execution_count": 55,
      "id": "a95c3e46",
      "metadata": {},
      "outputs": [],
      "source": [
        "## Preprocessing (sessionized)\n",
        "\n",
        "# Task 4: Oracle Model\n",
        "# Create base\n",
        "# TODO\n",
        "# You will also immediately receive a test set (already pre-processed), consisting of three .json files containing sessions trimmed after 5, 10, and 15 events post add to cart, with no information about which are purchase sessions and which aren't. Use these files to make sure your pipeline can make predictions using those as input. You need to return files with the predicted label for each session, as obtained by running the baseline model and your own model of choice\n",
        "# 1 point for each matching F1\n",
        "\n",
        "# TODO simple oracle\n",
        "\n",
        "# The oracle doesn't use ngrams! It doesn't need to derive features, it stores full sessions mapped to the labels with which each session is found at test.\n"
      ]
    },
    {
      "attachments": {},
      "cell_type": "markdown",
      "id": "572fb72b",
      "metadata": {},
      "source": [
        "# N-grams"
      ]
    },
    {
      "cell_type": "code",
      "execution_count": 56,
      "id": "bb8a9c47",
      "metadata": {},
      "outputs": [
        {
          "data": {
            "text/plain": [
              "\"The Naive Bayes baseline should only be fed 4-grams as input, \\nnot shorter n-grams: thanks for asking this, good point!\\n\\nThe Naive Bayes and Oracle have to be built as indicated, \\nif you have a different pipeline you apply it for task 4. \\nI reiterate: the results for the baseline and oracle have to \\nbe exactly the same for every group because the way to implement\\nthem is fully given, with no degrees of freedom. The oracle has \\nbeen implemented in class, and it should be implemented in the same way, \\ndon't overcomplicate things when it isn't necessary.\\nSo no, don't drop columns that are very sparse for the baseline. \\nThese are all interesting things to try, but first you implement \\nthe oracle as indicated in class and fit the baseline as per instructions. \\nThen, for Task 4, you try everything else you can think of.\""
            ]
          },
          "execution_count": 56,
          "metadata": {},
          "output_type": "execute_result"
        }
      ],
      "source": [
        "\"\"\"The Naive Bayes baseline should only be fed 4-grams as input, \n",
        "not shorter n-grams: thanks for asking this, good point!\n",
        "\n",
        "The Naive Bayes and Oracle have to be built as indicated, \n",
        "if you have a different pipeline you apply it for task 4. \n",
        "I reiterate: the results for the baseline and oracle have to \n",
        "be exactly the same for every group because the way to implement\n",
        "them is fully given, with no degrees of freedom. The oracle has \n",
        "been implemented in class, and it should be implemented in the same way, \n",
        "don't overcomplicate things when it isn't necessary.\n",
        "So no, don't drop columns that are very sparse for the baseline. \n",
        "These are all interesting things to try, but first you implement \n",
        "the oracle as indicated in class and fit the baseline as per instructions. \n",
        "Then, for Task 4, you try everything else you can think of.\"\"\"\n"
      ]
    },
    {
      "cell_type": "code",
      "execution_count": 57,
      "id": "2875ea2b",
      "metadata": {},
      "outputs": [],
      "source": [
        "sessions_train, sessions_val, y_train, y_val = train_test_split(symbolised_sessions, labels, test_size=0.3, random_state=42)"
      ]
    },
    {
      "cell_type": "code",
      "execution_count": 58,
      "id": "330a4d5d",
      "metadata": {},
      "outputs": [],
      "source": [
        "def ngram_featurizer(session, n):\n",
        "    \n",
        "    \"\"\"takes in a list and an integer defining the size of ngrams.\n",
        "     Returns the ngrams of desired size in the input string\"\"\"\n",
        "    \n",
        "    session = ['#']*(n-1) + session + ['+']*(n-1)\n",
        "    ngrams = [tuple(session[i:i+n]) for i in range(len(session)-n+1)]\n",
        "    \n",
        "    return ngrams\n",
        "    \n",
        "\n",
        "def encode_sessions(sessions, n, mapping=None):\n",
        "    \n",
        "    \"\"\"\n",
        "    Takes in a list of lists, an integer indicating the character ngrams' size,\n",
        "    and a dictionary mapping ngrams to numerical indices. If no dictionary is passed,\n",
        "    one is created inside the function.\n",
        "    The function outputs a 2d NumPy array with as many rows as there are strings in \n",
        "    the input list, and the mapping from ngrams to indices, representing the columns \n",
        "    of the NumPy array.\n",
        "    \"\"\"\n",
        "    \n",
        "    if not mapping:\n",
        "        all_ngrams = set()\n",
        "        for session in sessions:\n",
        "            all_ngrams = all_ngrams.union(set(ngram_featurizer(session, n)))\n",
        "    \n",
        "        mapping = {ngram: i for i, ngram in enumerate(all_ngrams)}\n",
        "    \n",
        "    X = np.zeros((len(sessions), len(mapping)))\n",
        "    for i, session in enumerate(sessions):\n",
        "        for ngram in ngram_featurizer(session, n):\n",
        "            try:\n",
        "                X[i, mapping[ngram]] += 1\n",
        "            except KeyError:\n",
        "                pass\n",
        "    \n",
        "    return X, mapping"
      ]
    },
    {
      "cell_type": "code",
      "execution_count": 59,
      "id": "cc7db216",
      "metadata": {},
      "outputs": [],
      "source": [
        "X_train, mapping = encode_sessions(sessions_train, 4)\n",
        "# print(mapping, end=' ')\n",
        "# print(X_train[0,:])"
      ]
    },
    {
      "cell_type": "code",
      "execution_count": 60,
      "id": "a80770eb",
      "metadata": {},
      "outputs": [],
      "source": [
        "X_val, _ = encode_sessions(sessions_val, 4, mapping=mapping)"
      ]
    },
    {
      "cell_type": "code",
      "execution_count": 61,
      "id": "46e9cb1f",
      "metadata": {},
      "outputs": [],
      "source": [
        "X_test_5, _ = encode_sessions(test_5.values(), 4, mapping=mapping)\n",
        "X_test_10, _ = encode_sessions(test_10.values(), 4, mapping=mapping)\n",
        "X_test_15, _ = encode_sessions(test_15.values(), 4, mapping=mapping)"
      ]
    },
    {
      "attachments": {},
      "cell_type": "markdown",
      "id": "6a699078",
      "metadata": {},
      "source": [
        "# Task 5: Error Analysis"
      ]
    },
    {
      "cell_type": "code",
      "execution_count": 62,
      "id": "5e876eab",
      "metadata": {},
      "outputs": [],
      "source": [
        "def validationFunction(actual, prediction, target_names=['No Purchase', 'Purchase']):\n",
        "\n",
        "    \"\"\"\n",
        "    Confusion Matrix: The confusion matrix is a table that summarizes the model's \n",
        "    predictions against the actual class labels. It provides an intuitive way to evaluate \n",
        "    the performance of a classifier by showing the number of true positives, true negatives, \n",
        "    false positives, and false negatives. You can use the confusion_matrix function from sklearn.metrics to \n",
        "    generate the confusion matrix.\n",
        "\n",
        "    ROC Curve: The ROC (Receiver Operating Characteristic) curve is another useful visualization tool for evaluating \n",
        "    the performance of a binary classifier. It shows the trade-off between the true positive rate and the false positive \n",
        "    rate at different threshold values. You can use the roc_curve function from sklearn.metrics to generate the ROC curve.\n",
        "    \"\"\"\n",
        "\n",
        "\n",
        "    print('Validation of Model based on validation set')\n",
        "    acc = accuracy_score(actual, prediction) \n",
        "    f1 = f1_score(actual, prediction)\n",
        "    print('Validation Accuracy: {}%'.format(round(acc,5)))\n",
        "    print('Validation F1: {}%'.format(round(f1,5)))\n",
        "    print('\\nClassification report')\n",
        "    print(classification_report(actual, prediction, target_names=target_names))\n",
        "    \n",
        "    print('\\nConfusion matrix')\n",
        "    confusion_matrix = metrics.confusion_matrix(actual, prediction)\n",
        "    cm_display = metrics.ConfusionMatrixDisplay(confusion_matrix = confusion_matrix, display_labels = ['No Purchase', 'Purchase'])\n",
        "    cm_display.plot()\n",
        "    plt.show()\n",
        "\n",
        "    print('\\nWeighted confusion matrix')\n",
        "    confusion_matrix = metrics.confusion_matrix(actual, prediction, normalize='true')\n",
        "    cm_display = metrics.ConfusionMatrixDisplay(confusion_matrix = confusion_matrix, display_labels = ['No Purchase', 'Purchase'])\n",
        "    cm_display.plot()\n",
        "    plt.show()\n",
        "\n",
        "    def plot_roc_curve(actual, prediction):\n",
        "        \"\"\"\n",
        "        plots the roc curve based of the probabilities\n",
        "        \"\"\"\n",
        "\n",
        "        fpr, tpr, thresholds = roc_curve(actual, prediction)\n",
        "        plt.plot(fpr, tpr)\n",
        "        plt.xlabel('False Positive Rate')\n",
        "        plt.ylabel('True Positive Rate')\n",
        "\n",
        "    roc_auc = roc_auc_score(actual, prediction)\n",
        "\n",
        "    print('model 1 AUC score: {}'.format(roc_auc))\n",
        "    plot_roc_curve(actual, prediction)\n",
        "\n",
        "    return acc, f1, roc_auc\n"
      ]
    },
    {
      "attachments": {},
      "cell_type": "markdown",
      "id": "8a1c76c2",
      "metadata": {},
      "source": [
        "# Task 2: Naive bayes"
      ]
    },
    {
      "cell_type": "code",
      "execution_count": 63,
      "id": "2e5585d7",
      "metadata": {},
      "outputs": [
        {
          "data": {
            "text/plain": [
              "MultinomialNB(alpha=1)"
            ]
          },
          "execution_count": 63,
          "metadata": {},
          "output_type": "execute_result"
        }
      ],
      "source": [
        "# fit NB classifier\n",
        "from sklearn.naive_bayes import MultinomialNB\n",
        "\n",
        "NB = MultinomialNB(alpha=1, fit_prior=True)\n",
        "NB.fit(X_train,y_train)"
      ]
    },
    {
      "cell_type": "code",
      "execution_count": 64,
      "id": "be8d733f",
      "metadata": {},
      "outputs": [],
      "source": [
        "def saveSubmissionPrediction(predictions, name):\n",
        "    json_save = {}\n",
        "    for i in range(len(predictions)):\n",
        "        json_save[str(i)] = int(predictions[i])\n",
        "\n",
        "    json.dump(json_save, open(os.path.join(DATA_FOLDER_SUBMISSION,name), \"w\"))"
      ]
    },
    {
      "cell_type": "code",
      "execution_count": 65,
      "id": "a16c25a1",
      "metadata": {},
      "outputs": [],
      "source": [
        "Y_val_pred_NB = NB.predict(X_val)\n",
        "\n",
        "Y_test_5_pred_NB = NB.predict(X_test_5)\n",
        "Y_test_10_pred_NB = NB.predict(X_test_10)\n",
        "Y_test_15_pred_NB = NB.predict(X_test_15)\n",
        "saveSubmissionPrediction(Y_test_5_pred_NB, 'predictions_group14_baseline_at5.json')\n",
        "saveSubmissionPrediction(Y_test_10_pred_NB, 'predictions_group14_baseline_at10.json')\n",
        "saveSubmissionPrediction(Y_test_15_pred_NB, 'predictions_group14_baseline_at15.json')\n",
        "\n",
        "# TODO ask naming convention [14] or 14"
      ]
    },
    {
      "cell_type": "code",
      "execution_count": 66,
      "id": "98122157",
      "metadata": {},
      "outputs": [
        {
          "name": "stdout",
          "output_type": "stream",
          "text": [
            "Validation of Model based on validation set\n",
            "Validation Accuracy: 0.72748%\n",
            "Validation F1: 0.49481%\n",
            "\n",
            "Classification report\n",
            "              precision    recall  f1-score   support\n",
            "\n",
            " No Purchase       0.85      0.78      0.81     36897\n",
            "    Purchase       0.44      0.56      0.49     11484\n",
            "\n",
            "    accuracy                           0.73     48381\n",
            "   macro avg       0.65      0.67      0.65     48381\n",
            "weighted avg       0.75      0.73      0.74     48381\n",
            "\n",
            "\n",
            "Confusion matrix\n"
          ]
        },
        {
          "data": {
            "image/png": "[encoded data removed]",
            "text/plain": [
              "<Figure size 432x288 with 2 Axes>"
            ]
          },
          "metadata": {
            "needs_background": "light"
          },
          "output_type": "display_data"
        },
        {
          "name": "stdout",
          "output_type": "stream",
          "text": [
            "\n",
            "Weighted confusion matrix\n"
          ]
        },
        {
          "data": {
            "image/png": "[encoded data removed]",
            "text/plain": [
              "<Figure size 432x288 with 2 Axes>"
            ]
          },
          "metadata": {
            "needs_background": "light"
          },
          "output_type": "display_data"
        },
        {
          "name": "stdout",
          "output_type": "stream",
          "text": [
            "model 1 AUC score: 0.670579274893545\n"
          ]
        },
        {
          "data": {
            "text/plain": [
              "(0.7274756619334036, 0.4948082302003909, 0.670579274893545)"
            ]
          },
          "execution_count": 66,
          "metadata": {},
          "output_type": "execute_result"
        },
        {
          "data": {
            "image/png": "[encoded data removed]",
            "text/plain": [
              "<Figure size 432x288 with 1 Axes>"
            ]
          },
          "metadata": {
            "needs_background": "light"
          },
          "output_type": "display_data"
        }
      ],
      "source": [
        "validationFunction(y_val, Y_val_pred_NB)"
      ]
    },
    {
      "attachments": {},
      "cell_type": "markdown",
      "id": "f75c04c4",
      "metadata": {},
      "source": [
        "# Task 3: Machine Learning Models"
      ]
    },
    {
      "cell_type": "code",
      "execution_count": 67,
      "id": "1dfca8ec",
      "metadata": {},
      "outputs": [
        {
          "name": "stdout",
          "output_type": "stream",
          "text": [
            "from sklearn.ensemble import AdaBoostClassifier\n",
            "from sklearn.ensemble import BaggingClassifier\n",
            "from sklearn.naive_bayes import BernoulliNB\n",
            "from sklearn.calibration import CalibratedClassifierCV\n",
            "from sklearn.naive_bayes import CategoricalNB\n",
            "from sklearn.multioutput import ClassifierChain\n",
            "from sklearn.naive_bayes import ComplementNB\n",
            "from sklearn.tree import DecisionTreeClassifier\n",
            "from sklearn.dummy import DummyClassifier\n",
            "from sklearn.tree import ExtraTreeClassifier\n",
            "from sklearn.ensemble import ExtraTreesClassifier\n",
            "from sklearn.naive_bayes import GaussianNB\n",
            "from sklearn.gaussian_process import GaussianProcessClassifier\n",
            "from sklearn.ensemble import GradientBoostingClassifier\n",
            "from sklearn.ensemble import HistGradientBoostingClassifier\n",
            "from sklearn.neighbors import KNeighborsClassifier\n",
            "from sklearn.semi_supervised import LabelPropagation\n",
            "from sklearn.semi_supervised import LabelSpreading\n",
            "from sklearn.discriminant_analysis import LinearDiscriminantAnalysis\n",
            "from sklearn.svm import LinearSVC\n",
            "from sklearn.linear_model import LogisticRegression\n",
            "from sklearn.linear_model import LogisticRegressionCV\n",
            "from sklearn.neural_network import MLPClassifier\n",
            "from sklearn.multioutput import MultiOutputClassifier\n",
            "from sklearn.naive_bayes import MultinomialNB\n",
            "from sklearn.neighbors import NearestCentroid\n",
            "from sklearn.svm import NuSVC\n",
            "from sklearn.multiclass import OneVsOneClassifier\n",
            "from sklearn.multiclass import OneVsRestClassifier\n",
            "from sklearn.multiclass import OutputCodeClassifier\n",
            "from sklearn.linear_model import PassiveAggressiveClassifier\n",
            "from sklearn.linear_model import Perceptron\n",
            "from sklearn.discriminant_analysis import QuadraticDiscriminantAnalysis\n",
            "from sklearn.neighbors import RadiusNeighborsClassifier\n",
            "from sklearn.ensemble import RandomForestClassifier\n",
            "from sklearn.linear_model import RidgeClassifier\n",
            "from sklearn.linear_model import RidgeClassifierCV\n",
            "from sklearn.linear_model import SGDClassifier\n",
            "from sklearn.svm import SVC\n",
            "from sklearn.ensemble import StackingClassifier\n",
            "from sklearn.ensemble import VotingClassifier\n"
          ]
        }
      ],
      "source": [
        "# discover all estimators\n",
        "from sklearn.utils import all_estimators\n",
        "\n",
        "estimators = all_estimators(type_filter='classifier')\n",
        "    \n",
        "for name, class_ in estimators:\n",
        "    module_name = str(class_).split(\"'\")[1].split(\".\")[1]\n",
        "    class_name = class_.__name__\n",
        "    print(f'from sklearn.{module_name} import {class_name}')"
      ]
    },
    {
      "cell_type": "code",
      "execution_count": 70,
      "id": "602578af",
      "metadata": {},
      "outputs": [],
      "source": []
    },
    {
      "cell_type": "code",
      "execution_count": null,
      "id": "efa6ad01",
      "metadata": {},
      "outputs": [],
      "source": [
        "from sklearn.ensemble import AdaBoostClassifier\n",
        "from sklearn.ensemble import BaggingClassifier\n",
        "from sklearn.naive_bayes import BernoulliNB\n",
        "from sklearn.calibration import CalibratedClassifierCV\n",
        "from sklearn.naive_bayes import CategoricalNB\n",
        "from sklearn.multioutput import ClassifierChain\n",
        "from sklearn.naive_bayes import ComplementNB\n",
        "from sklearn.tree import DecisionTreeClassifier\n",
        "from sklearn.dummy import DummyClassifier\n",
        "from sklearn.tree import ExtraTreeClassifier\n",
        "from sklearn.ensemble import ExtraTreesClassifier\n",
        "from sklearn.naive_bayes import GaussianNB\n",
        "from sklearn.gaussian_process import GaussianProcessClassifier\n",
        "from sklearn.ensemble import GradientBoostingClassifier\n",
        "from sklearn.ensemble import HistGradientBoostingClassifier\n",
        "from sklearn.neighbors import KNeighborsClassifier\n",
        "from sklearn.semi_supervised import LabelPropagation\n",
        "from sklearn.semi_supervised import LabelSpreading\n",
        "from sklearn.discriminant_analysis import LinearDiscriminantAnalysis\n",
        "from sklearn.svm import LinearSVC\n",
        "from sklearn.linear_model import LogisticRegression\n",
        "from sklearn.linear_model import LogisticRegressionCV\n",
        "from sklearn.neural_network import MLPClassifier\n",
        "from sklearn.multioutput import MultiOutputClassifier\n",
        "from sklearn.naive_bayes import MultinomialNB\n",
        "from sklearn.neighbors import NearestCentroid\n",
        "from sklearn.svm import NuSVC\n",
        "from sklearn.multiclass import OneVsOneClassifier\n",
        "from sklearn.multiclass import OneVsRestClassifier\n",
        "from sklearn.multiclass import OutputCodeClassifier\n",
        "from sklearn.linear_model import PassiveAggressiveClassifier\n",
        "from sklearn.linear_model import Perceptron\n",
        "from sklearn.discriminant_analysis import QuadraticDiscriminantAnalysis\n",
        "from sklearn.neighbors import RadiusNeighborsClassifier\n",
        "from sklearn.ensemble import RandomForestClassifier\n",
        "from sklearn.linear_model import RidgeClassifier\n",
        "from sklearn.linear_model import RidgeClassifierCV\n",
        "from sklearn.linear_model import SGDClassifier\n",
        "from sklearn.svm import SVC\n",
        "from sklearn.ensemble import StackingClassifier\n",
        "from sklearn.ensemble import VotingClassifier\n",
        "\n",
        "models = [    \n",
        "    AdaBoostClassifier(),\n",
        "    BaggingClassifier(),\n",
        "    BernoulliNB(),\n",
        "    # CalibratedClassifierCV(),\n",
        "    # CategoricalNB(),\n",
        "    ComplementNB(),\n",
        "    DecisionTreeClassifier(),\n",
        "    GaussianNB(),\n",
        "    # GaussianProcessClassifier(),\n",
        "    GradientBoostingClassifier(),\n",
        "    KNeighborsClassifier(),\n",
        "    LabelPropagation(),\n",
        "    LabelSpreading(),\n",
        "    LinearSVC(),\n",
        "    LogisticRegression(),\n",
        "    MultinomialNB(),\n",
        "    NearestCentroid(),\n",
        "    PassiveAggressiveClassifier(),\n",
        "    Perceptron(),\n",
        "    QuadraticDiscriminantAnalysis(),\n",
        "    RadiusNeighborsClassifier(),\n",
        "    RandomForestClassifier(),\n",
        "    RidgeClassifier(),\n",
        "    RidgeClassifierCV(),\n",
        "    SGDClassifier(),\n",
        "    SVC(),\n",
        "    ExtraTreeClassifier(),\n",
        "    ExtraTreesClassifier(),\n",
        "    LinearDiscriminantAnalysis(),\n",
        "    MLPClassifier(), #Neural Network\n",
        "]\n",
        "\n",
        "model_results = {}\n",
        "for i, model in enumerate( models):\n",
        "    try:\n",
        "        start = time.time()\n",
        "\n",
        "        print('\\n')\n",
        "        print(model.__class__.__name__, i+1,'/',len(models)+1)\n",
        "\n",
        "        model.fit(X=X_train,y=y_train)\n",
        "\n",
        "        Y_val_pred_model = model.predict(X_val)\n",
        "        \n",
        "        acc, f1, roc_auc = validationFunction(y_val, Y_val_pred_model)\n",
        "\n",
        "        end = time.time()\n",
        "\n",
        "        model_results[model.__class__.__name__] = {'accuracy':acc,'F1Score':f1,'roc_auc':roc_auc, 'TrainingTime':end - start }\n",
        "    except:\n",
        "        print(model.__class__.__name__, i+1,'/',len(models)+1, 'passed')\n",
        "        pass\n",
        "    model = None\n",
        "    del model"
      ]
    },
    {
      "cell_type": "code",
      "execution_count": null,
      "id": "6c661ee6",
      "metadata": {},
      "outputs": [],
      "source": [
        "px.bar(x=list(model_results.keys()), y=[model_results[key]['TrainingTime'] for key in model_results.keys()], title=\"TrainingTime of different models\")"
      ]
    },
    {
      "cell_type": "code",
      "execution_count": null,
      "id": "efe51672",
      "metadata": {},
      "outputs": [],
      "source": [
        "px.bar(x=list(model_results.keys()), y=[model_results[key]['accuracy'] for key in model_results.keys()], title=\"Accuracy metrics of different models\")"
      ]
    },
    {
      "cell_type": "code",
      "execution_count": null,
      "id": "64ae80a6",
      "metadata": {},
      "outputs": [],
      "source": [
        "px.bar(x=list(model_results.keys()), y=[model_results[key]['F1Score'] for key in model_results.keys()], title=\"F1 score of different models\")"
      ]
    },
    {
      "cell_type": "code",
      "execution_count": null,
      "id": "5b07e9ea",
      "metadata": {},
      "outputs": [],
      "source": [
        "px.bar(x=list(model_results.keys()), y=[model_results[key]['roc_auc'] for key in model_results.keys()], title=\"roc_auc score of different models\")"
      ]
    },
    {
      "attachments": {},
      "cell_type": "markdown",
      "id": "bd5c8415",
      "metadata": {},
      "source": [
        "##  create predictions with best model"
      ]
    },
    {
      "cell_type": "code",
      "execution_count": null,
      "id": "8287df44",
      "metadata": {},
      "outputs": [],
      "source": [
        "### TODO downampling / upsampling (# never combine under and oversampling, # never combine under/oversampling with annomaly detection)\n"
      ]
    },
    {
      "attachments": {},
      "cell_type": "markdown",
      "id": "bb1d17a5",
      "metadata": {},
      "source": [
        "# Custom data pipeline"
      ]
    },
    {
      "attachments": {},
      "cell_type": "markdown",
      "id": "cf5add61",
      "metadata": {},
      "source": [
        "## Model creation data pipeline"
      ]
    },
    {
      "cell_type": "code",
      "execution_count": 258,
      "id": "3bb5e39a",
      "metadata": {},
      "outputs": [],
      "source": [
        "# More hyperparameters\n",
        "n_gram_len_max = 4\n",
        "empty_cut = 99 # if values are more than 99% empty -> remove column"
      ]
    },
    {
      "cell_type": "code",
      "execution_count": 204,
      "id": "0cae0152",
      "metadata": {},
      "outputs": [],
      "source": [
        "def dataPipeline(\n",
        "        df_input, \n",
        "        df_name,\n",
        "        n_gram_len_max, \n",
        "        outlier_start, \n",
        "        outlier_end, \n",
        "        empty_cut, \n",
        "        save = False,\n",
        "        save_eda = False,\n",
        "        ):\n",
        "    \n",
        "    print('Start data pipeline')\n",
        "    print('Perform preprocessing step: {} (Filling na with view)'.format(1))\n",
        "    df_p = prep_1_fill_na(df_raw.copy())\n",
        "\n",
        "    print('Perform preprocessing step: {} (Grouping by session):'.format(2))\n",
        "    df_p = prep_2_group(df_p)\n",
        "\n",
        "    print('Perform preprocessing step: {} (Filtering df -> at least one add needs to be included)'.format(2.2))\n",
        "    df_p = prep_2_2_filterAdd(df_p)\n",
        "\n",
        "    print('Perform preprocessing step: {} (Creating buy or no buy label)'.format(3))\n",
        "    df_p = prep_3_label(df_p)\n",
        "\n",
        "    print('Perform preprocessing step: {} (Cut data before last buy)'.format(4))\n",
        "    df_p = prep_4_cutBeforeLastBuy(df_p)\n",
        "\n",
        "    print('Perform preprocessing step: {} (Create feature: Session length)'.format(5))\n",
        "    df_p = prep_5_create_session_len(df_p)\n",
        "\n",
        "    print('Perform preprocessing step: {} (Remove outliers based on session length)'.format(6))\n",
        "    df_p = prep_6_remove_outliers(df_p, outlier_start, outlier_end)\n",
        "\n",
        "    print('Perform preprocessing step: {} (Creating n_grams)'.format(7))\n",
        "    df_p = prep_7_create_n_grams(n_gram_len_max, df_p)\n",
        "    # save the eda data (unnormalized n_grams -> just counts)\n",
        "    if save_eda:\n",
        "        df_count = df[:] #copies the df\n",
        "        \n",
        "    print('Perform preprocessing step: {} (Normalize n_grams, counts->frequencies)'.format(8))\n",
        "    df_p = prep_8_create_n_grams_normalized(n_gram_len_max, df_p)\n",
        "\n",
        "    print('Perform preprocessing step: {} (Remove {}% empty n_gram columns)'.format(9,empty_cut))\n",
        "    df_p, df_p_all_n_gram_columns_left =  prep_9_remove_empty_ngrams(df_p, n_gram_len_max, empty_cut)\n",
        "    \n",
        "    print('Perform preprocessing step: {} (Perform datetime transformation)'.format(10))\n",
        "    df_p = prep_10_datetime_transformation(df_p)\n",
        "    \n",
        "    print('Perform preprocessing step: {} (Extract first timestamp)'.format(11))\n",
        "    df_p = prep_11_datetime(df_p)\n",
        "    \n",
        "    print('Perform preprocessing step: {} (Create feature: Hour of the day, day of week ,weekend)'.format(12))\n",
        "    df_p = prep_12_weekend_weekday_hour(df_p)\n",
        "    \n",
        "    print('Perform preprocessing step: {} (Create feature: Session length in time duration)'.format(13))\n",
        "    df_p = prep_13_time_elapsed(df_p)\n",
        "    \n",
        "    print('Perform preprocessing step: {} (Create feature: Dwell time - average time between actions)'.format(14))\n",
        "    df_p = prep_14_dwell(df_p)\n",
        "    \n",
        "    print('Perform preprocessing step: {} (Create feature: Count how many products were viewed'.format(15))\n",
        "    df_p = prep_15_count_product_viewed(df_p)\n",
        "    \n",
        "    print('Perform preprocessing step: {} (Extract all feature columns)'.format(16))\n",
        "    df_p_features, df_p_labels = prep_16_filterColumns(df_p, df_p_all_n_gram_columns_left)\n",
        "\n",
        "\n",
        "    df_name_save = df_name[2:]\n",
        "    if save_eda:\n",
        "        print('Perform saving: EDA data:',\"Data_features{}_n{}_eda_counts.csv\".format(df_name_save,n_gram_len_max), \"Data_labels{}_n{}_eda_counts.csv\".format(df_name_save,n_gram_len_max))\n",
        "        df_p_features_count = df_p_features[:]\n",
        "        df_p_features_count[df_p_all_n_gram_columns_left] = df_count[df_p_all_n_gram_columns_left]\n",
        "        del df_count\n",
        "        df_p_features_count.to_csv(os.path.join(DATA_FOLDER_PREPROCESSING,\"Data_features{}_n{}_eda_counts.csv\".format(df_name_save,n_gram_len_max)), index=False)\n",
        "        df_p_labels.to_csv(os.path.join(DATA_FOLDER_PREPROCESSING,\"Data_labels{}_n{}_eda_counts.csv\".format(df_name_save,n_gram_len_max)), index=False)\n",
        "        \n",
        "    if save:\n",
        "        print('Perform saving:',\"Data_features{}_n{}.csv\".format(df_name_save,n_gram_len_max)  , \"Data_labels{}_n{}.csv\".format(df_name_save,n_gram_len_max) )\n",
        "        df_p_features.to_csv(os.path.join(DATA_FOLDER_PREPROCESSING,\"Data_features{}_n{}.csv\".format(df_name_save,n_gram_len_max)), index=False)\n",
        "        # save the target label\n",
        "        df_p_labels.to_csv(os.path.join(DATA_FOLDER_PREPROCESSING,\"Data_labels{}_n{}.csv\".format(df_name_save,n_gram_len_max)), index=False)\n",
        "        \n",
        "        # try reading it \n",
        "        # pd.read_csv(os.path.join(DATA_FOLDER_PREPROCESSING,\"Data_features{}_n{}.csv\".format(df_name_save,n_gram_len_max)))\n",
        "        # pd.read_csv(os.path.join(DATA_FOLDER_PREPROCESSING,\"Data_labels{}_n{}.csv\".format(df_name_save,n_gram_len_max)))\n",
        "\n",
        "    return df_p_features, df_p_labels"
      ]
    },
    {
      "cell_type": "code",
      "execution_count": 205,
      "id": "0b6df84f",
      "metadata": {},
      "outputs": [],
      "source": [
        "run_data_pipeline = False # starts the data preprocessing pipeline\n",
        "save = True \n",
        "save_eda = False\n",
        "df_name = 'df'\n",
        "\n",
        "if run_data_pipeline:\n",
        "    df_features, df_labels  = dataPipeline(\n",
        "        df, \n",
        "        df_name,\n",
        "        n_gram_len_max, \n",
        "        outlier_start, \n",
        "        outlier_end, \n",
        "        empty_cut, \n",
        "        save = save, \n",
        "        save_eda=save_eda)\n",
        "else:\n",
        "    # read data\n",
        "    df_name_save = df_name[2:]\n",
        "    df_features = pd.read_csv(os.path.join(DATA_FOLDER_PREPROCESSING,\"Data_features{}_n{}.csv\".format(df_name_save,n_gram_len_max)))\n",
        "    df_labels = pd.read_csv(os.path.join(DATA_FOLDER_PREPROCESSING,\"Data_labels{}_n{}.csv\".format(df_name_save,n_gram_len_max)))"
      ]
    },
    {
      "cell_type": "code",
      "execution_count": 206,
      "id": "99ef2339",
      "metadata": {},
      "outputs": [],
      "source": [
        "## Train validation split\n",
        "\n",
        "X_train, X_val, y_train, y_val = train_test_split(df_features, np.array(df_labels).ravel() , test_size=0.33, random_state=42)"
      ]
    },
    {
      "attachments": {},
      "cell_type": "markdown",
      "id": "d0c4c916",
      "metadata": {},
      "source": [
        "## Real test data pipeline"
      ]
    },
    {
      "attachments": {},
      "cell_type": "markdown",
      "id": "239f7d16",
      "metadata": {},
      "source": [
        "# TODO debug:"
      ]
    },
    {
      "cell_type": "code",
      "execution_count": 208,
      "id": "5ac1dda5",
      "metadata": {},
      "outputs": [],
      "source": [
        "def dataPipeline_test(\n",
        "        df_input, \n",
        "        df_name,\n",
        "        n_gram_len_max, \n",
        "        columns_keep_n_gram,\n",
        "        keep_x_after_add, \n",
        "        save = False,\n",
        "        ):\n",
        "    print('Start real test data pipeline')\n",
        "    print('Perform preprocessing step: {} (Filling na with view)'.format(1))\n",
        "    df_p = prep_1_fill_na(df_input)\n",
        "\n",
        "    print('Perform preprocessing step: {} (Grouping by session):'.format(2))\n",
        "    df_p = prep_2_group(df_p)\n",
        "\n",
        "    # not for testing\n",
        "    # print('Perform preprocessing step: {} (Filtering df -> at least one add needs to be included)'.format(2.2))\n",
        "    # df_p = prep_2_2_filterAdd(df_p)\n",
        "\n",
        "    print('Perform preprocessing step: {} (Creating buy or no buy label)'.format(3))\n",
        "    df_p = prep_3_label(df_p)\n",
        "\n",
        "    # not cut before purchase, because this is not included in the data\n",
        "    # print('Perform preprocessing step: {} (Cut data before last buy)'.format(4))\n",
        "    # df_p = prep_4_cutBeforeLastBuy(df_p)\n",
        "\n",
        "    # instead cut 5,10 and 15 after first add-to cart\n",
        "    print('Perform preprocessing step: {} (Keep {} actions after first add)'.format(4, keep_x_after_add))\n",
        "    df_p = prep_4_cutAfterAdd(df_p, keep_x_after_add)\n",
        "    \n",
        "    print('Perform preprocessing step: {} (Create feature: Session length)'.format(5))\n",
        "    df_p = prep_5_create_session_len(df_p)\n",
        "\n",
        "    # TODO if session len = 0 drop it!\n",
        "\n",
        "    # print('Perform preprocessing step: {} (Remove outliers based on session length)'.format(6))\n",
        "    # df_p = prep_6_remove_outliers(df_p, outlier_start, outlier_end)\n",
        "    print('Perform preprocessing step: {} (Creating n_grams)'.format(7))\n",
        "    df_p = prep_7_create_n_grams(n_gram_len_max, df_p)\n",
        "\n",
        "    print('Perform preprocessing step: {} (Normalize n_grams, counts->frequencies)'.format(8))\n",
        "    df_p = prep_8_create_n_grams_normalized(n_gram_len_max, df_p)\n",
        "\n",
        "    print('Perform preprocessing step: {} (Remove {}% empty n_gram columns, use features from training)'.format(9,empty_cut))\n",
        "    df_p, df_p_all_n_gram_columns_left =  prep_9_remove_empty_ngrams_not_in_training(df_p, n_gram_len_max, columns_keep_n_gram=columns_keep_n_gram)\n",
        "    \n",
        "    print('Perform preprocessing step: {} (Perform datetime transformation)'.format(10))\n",
        "    df_p = prep_10_datetime_transformation(df_p)\n",
        "    display(df_p)\n",
        "    print('Perform preprocessing step: {} (Extract first timestamp)'.format(11))\n",
        "    df_p = prep_11_datetime(df_p)\n",
        "    \n",
        "    print('Perform preprocessing step: {} (Create feature: Hour of the day, day of week ,weekend)'.format(12))\n",
        "    df_p = prep_12_weekend_weekday_hour(df_p)\n",
        "    \n",
        "    print('Perform preprocessing step: {} (Create feature: Session length in time duration)'.format(13))\n",
        "    df_p = prep_13_time_elapsed(df_p)\n",
        "    \n",
        "    print('Perform preprocessing step: {} (Create feature: Dwell time - average time between actions)'.format(14))\n",
        "    df_p = prep_14_dwell(df_p)\n",
        "    \n",
        "    print('Perform preprocessing step: {} (Create feature: Count how many products were viewed'.format(15))\n",
        "    df_p = prep_15_count_product_viewed(df_p)\n",
        "\n",
        "    print('Perform preprocessing step: {} (Extract all feature columns)'.format(16))\n",
        "    df_p_features, df_p_labels = prep_16_filterColumns(df_p, df_p_all_n_gram_columns_left+['session_id_hash'])\n",
        "\n",
        "    df_name_save = df_name[2:]\n",
        "\n",
        "    if save:\n",
        "        print('Perform saving:',\"Data_features{}_n{}.csv\".format(df_name_save,n_gram_len_max)  , \"Data_labels{}_n{}.csv\".format(df_name_save,n_gram_len_max) )\n",
        "        df_p_features.to_csv(os.path.join(DATA_FOLDER_PREPROCESSING,\"Data_features{}_n{}.csv\".format(df_name_save,n_gram_len_max)), index=False)\n",
        "        # save the target label\n",
        "        df_p_labels.to_csv(os.path.join(DATA_FOLDER_PREPROCESSING,\"Data_labels{}_n{}.csv\".format(df_name_save,n_gram_len_max)), index=False)\n",
        "        \n",
        "        # try reading it \n",
        "        # pd.read_csv(os.path.join(DATA_FOLDER_PREPROCESSING,\"Data_features{}_n{}.csv\".format(df_name_save,n_gram_len_max)))\n",
        "        # pd.read_csv(os.path.join(DATA_FOLDER_PREPROCESSING,\"Data_labels{}_n{}.csv\".format(df_name_save,n_gram_len_max)))\n",
        "\n",
        "    return df_p_features, df_p_labels"
      ]
    },
    {
      "cell_type": "code",
      "execution_count": null,
      "id": "a53cff25",
      "metadata": {},
      "outputs": [],
      "source": []
    },
    {
      "cell_type": "code",
      "execution_count": 209,
      "id": "58c93267",
      "metadata": {},
      "outputs": [
        {
          "name": "stdout",
          "output_type": "stream",
          "text": [
            "Start real test data pipeline\n",
            "Perform preprocessing step: 1 (Filling na with view)\n",
            "Perform preprocessing step: 2 (Grouping by session):\n",
            "Perform preprocessing step: 3 (Creating buy or no buy label)\n",
            "Perform preprocessing step: 4 (Keep 5 actions after first add)\n",
            "Perform preprocessing step: 5 (Create feature: Session length)\n",
            "Perform preprocessing step: 7 (Creating n_grams)\n",
            "n_gram: 1\n"
          ]
        },
        {
          "name": "stderr",
          "output_type": "stream",
          "text": [
            "100%|██████████| 37552/37552 [00:13<00:00, 2877.60it/s]\n"
          ]
        },
        {
          "name": "stdout",
          "output_type": "stream",
          "text": [
            "n_gram: 2\n"
          ]
        },
        {
          "name": "stderr",
          "output_type": "stream",
          "text": [
            "100%|██████████| 37552/37552 [00:12<00:00, 2955.54it/s]\n"
          ]
        },
        {
          "name": "stdout",
          "output_type": "stream",
          "text": [
            "n_gram: 3\n"
          ]
        },
        {
          "name": "stderr",
          "output_type": "stream",
          "text": [
            "100%|██████████| 37552/37552 [00:11<00:00, 3323.92it/s]\n"
          ]
        },
        {
          "name": "stdout",
          "output_type": "stream",
          "text": [
            "n_gram: 4\n"
          ]
        },
        {
          "name": "stderr",
          "output_type": "stream",
          "text": [
            "100%|██████████| 37552/37552 [00:10<00:00, 3473.87it/s]\n"
          ]
        },
        {
          "name": "stdout",
          "output_type": "stream",
          "text": [
            "Perform preprocessing step: 8 (Normalize n_grams, counts->frequencies)\n",
            "n-gram: 1\n",
            "n-gram: 2\n",
            "n-gram: 3\n",
            "n-gram: 4\n",
            "Perform preprocessing step: 9 (Remove 99% empty n_gram columns, use features from training)\n",
            "Perform preprocessing step: 10 (Perform datetime transformation)\n"
          ]
        },
        {
          "data": {
            "text/html": [
              "<div>\n",
              "<style scoped>\n",
              "    .dataframe tbody tr th:only-of-type {\n",
              "        vertical-align: middle;\n",
              "    }\n",
              "\n",
              "    .dataframe tbody tr th {\n",
              "        vertical-align: top;\n",
              "    }\n",
              "\n",
              "    .dataframe thead th {\n",
              "        text-align: right;\n",
              "    }\n",
              "</style>\n",
              "<table border=\"1\" class=\"dataframe\">\n",
              "  <thead>\n",
              "    <tr style=\"text-align: right;\">\n",
              "      <th></th>\n",
              "      <th>view_view_view_view</th>\n",
              "      <th>view_view_view_detail</th>\n",
              "      <th>view_view_view_add</th>\n",
              "      <th>view_view_view_remove</th>\n",
              "      <th>view_view_detail_view</th>\n",
              "      <th>view_view_detail_detail</th>\n",
              "      <th>view_view_detail_add</th>\n",
              "      <th>view_view_detail_remove</th>\n",
              "      <th>view_view_add_view</th>\n",
              "      <th>view_view_remove_view</th>\n",
              "      <th>...</th>\n",
              "      <th>view</th>\n",
              "      <th>detail</th>\n",
              "      <th>add</th>\n",
              "      <th>remove</th>\n",
              "      <th>session_id_hash</th>\n",
              "      <th>product_sku_hash</th>\n",
              "      <th>purchase</th>\n",
              "      <th>session</th>\n",
              "      <th>session_len</th>\n",
              "      <th>timestamps</th>\n",
              "    </tr>\n",
              "  </thead>\n",
              "  <tbody>\n",
              "    <tr>\n",
              "      <th>0</th>\n",
              "      <td>0.0</td>\n",
              "      <td>0.0</td>\n",
              "      <td>0.0</td>\n",
              "      <td>0.0</td>\n",
              "      <td>0.0</td>\n",
              "      <td>0.0</td>\n",
              "      <td>0.0</td>\n",
              "      <td>0.0</td>\n",
              "      <td>0.0</td>\n",
              "      <td>0.0</td>\n",
              "      <td>...</td>\n",
              "      <td>0.80</td>\n",
              "      <td>0.20</td>\n",
              "      <td>0.00</td>\n",
              "      <td>0.0</td>\n",
              "      <td>00024a2cbef8be2015bf16d355226c4b4d60b4e5216dea...</td>\n",
              "      <td>[nan, 2ab1ba02f7ca5ec008fd4286405f1f1ef7ae86f1...</td>\n",
              "      <td>0</td>\n",
              "      <td>[view, detail, view, view, view]</td>\n",
              "      <td>5</td>\n",
              "      <td>[2019-02-23 13:06:41.183000+00:00, 2019-02-23 ...</td>\n",
              "    </tr>\n",
              "    <tr>\n",
              "      <th>1</th>\n",
              "      <td>NaN</td>\n",
              "      <td>NaN</td>\n",
              "      <td>NaN</td>\n",
              "      <td>NaN</td>\n",
              "      <td>NaN</td>\n",
              "      <td>NaN</td>\n",
              "      <td>NaN</td>\n",
              "      <td>NaN</td>\n",
              "      <td>NaN</td>\n",
              "      <td>NaN</td>\n",
              "      <td>...</td>\n",
              "      <td>0.67</td>\n",
              "      <td>0.33</td>\n",
              "      <td>0.00</td>\n",
              "      <td>0.0</td>\n",
              "      <td>0006bbad7d1d1fb577307172adfb65bda305a6998050e7...</td>\n",
              "      <td>[nan, nan, nan, nan, nan, nan, nan, nan, nan, ...</td>\n",
              "      <td>0</td>\n",
              "      <td>[view, detail, view]</td>\n",
              "      <td>3</td>\n",
              "      <td>[2019-03-04 22:27:05.667000+00:00, 2019-03-04 ...</td>\n",
              "    </tr>\n",
              "    <tr>\n",
              "      <th>2</th>\n",
              "      <td>0.0</td>\n",
              "      <td>0.0</td>\n",
              "      <td>0.0</td>\n",
              "      <td>0.0</td>\n",
              "      <td>0.0</td>\n",
              "      <td>0.0</td>\n",
              "      <td>0.0</td>\n",
              "      <td>0.0</td>\n",
              "      <td>0.0</td>\n",
              "      <td>0.0</td>\n",
              "      <td>...</td>\n",
              "      <td>0.80</td>\n",
              "      <td>0.00</td>\n",
              "      <td>0.00</td>\n",
              "      <td>0.2</td>\n",
              "      <td>0007007d260df47d7c9cc306bdc2b4b6b8780d7ecc1c4d...</td>\n",
              "      <td>[ac162afe05d911e0c488047ef922e4315723aae7e4009...</td>\n",
              "      <td>0</td>\n",
              "      <td>[view, remove, view, view, view]</td>\n",
              "      <td>5</td>\n",
              "      <td>[2019-03-14 01:46:43.598000+00:00, 2019-03-14 ...</td>\n",
              "    </tr>\n",
              "    <tr>\n",
              "      <th>3</th>\n",
              "      <td>0.0</td>\n",
              "      <td>0.5</td>\n",
              "      <td>0.0</td>\n",
              "      <td>0.0</td>\n",
              "      <td>0.5</td>\n",
              "      <td>0.0</td>\n",
              "      <td>0.0</td>\n",
              "      <td>0.0</td>\n",
              "      <td>0.0</td>\n",
              "      <td>0.0</td>\n",
              "      <td>...</td>\n",
              "      <td>0.80</td>\n",
              "      <td>0.20</td>\n",
              "      <td>0.00</td>\n",
              "      <td>0.0</td>\n",
              "      <td>000718b63f09e50c0e00f32038b2b5439b16082f4ebe0a...</td>\n",
              "      <td>[f29fbc934f4c2340801052adc981a3ad2703d02b59a5c...</td>\n",
              "      <td>0</td>\n",
              "      <td>[view, view, view, detail, view]</td>\n",
              "      <td>5</td>\n",
              "      <td>[2019-02-10 19:23:24.123000+00:00, 2019-02-10 ...</td>\n",
              "    </tr>\n",
              "    <tr>\n",
              "      <th>4</th>\n",
              "      <td>0.0</td>\n",
              "      <td>0.0</td>\n",
              "      <td>0.0</td>\n",
              "      <td>0.0</td>\n",
              "      <td>0.0</td>\n",
              "      <td>0.0</td>\n",
              "      <td>0.0</td>\n",
              "      <td>0.0</td>\n",
              "      <td>0.0</td>\n",
              "      <td>0.0</td>\n",
              "      <td>...</td>\n",
              "      <td>0.60</td>\n",
              "      <td>0.40</td>\n",
              "      <td>0.00</td>\n",
              "      <td>0.0</td>\n",
              "      <td>000acdb2f21499ec80bc6ceecd59232d4111058330c365...</td>\n",
              "      <td>[nan, ccd5e4bbee312793fc3c91a52285d8c17e07596c...</td>\n",
              "      <td>0</td>\n",
              "      <td>[view, detail, view, view, detail]</td>\n",
              "      <td>5</td>\n",
              "      <td>[2019-02-04 23:18:29.280000+00:00, 2019-02-04 ...</td>\n",
              "    </tr>\n",
              "    <tr>\n",
              "      <th>...</th>\n",
              "      <td>...</td>\n",
              "      <td>...</td>\n",
              "      <td>...</td>\n",
              "      <td>...</td>\n",
              "      <td>...</td>\n",
              "      <td>...</td>\n",
              "      <td>...</td>\n",
              "      <td>...</td>\n",
              "      <td>...</td>\n",
              "      <td>...</td>\n",
              "      <td>...</td>\n",
              "      <td>...</td>\n",
              "      <td>...</td>\n",
              "      <td>...</td>\n",
              "      <td>...</td>\n",
              "      <td>...</td>\n",
              "      <td>...</td>\n",
              "      <td>...</td>\n",
              "      <td>...</td>\n",
              "      <td>...</td>\n",
              "      <td>...</td>\n",
              "    </tr>\n",
              "    <tr>\n",
              "      <th>37547</th>\n",
              "      <td>NaN</td>\n",
              "      <td>NaN</td>\n",
              "      <td>NaN</td>\n",
              "      <td>NaN</td>\n",
              "      <td>NaN</td>\n",
              "      <td>NaN</td>\n",
              "      <td>NaN</td>\n",
              "      <td>NaN</td>\n",
              "      <td>NaN</td>\n",
              "      <td>NaN</td>\n",
              "      <td>...</td>\n",
              "      <td>1.00</td>\n",
              "      <td>0.00</td>\n",
              "      <td>0.00</td>\n",
              "      <td>0.0</td>\n",
              "      <td>fffce177594c5442f86fe17a9fb595bb441bf75500faf7...</td>\n",
              "      <td>[nan, 75edba6339dd464324d17cc15646dcc19723199e...</td>\n",
              "      <td>0</td>\n",
              "      <td>[view, view]</td>\n",
              "      <td>2</td>\n",
              "      <td>[2019-02-05 00:40:10.124000+00:00, 2019-02-05 ...</td>\n",
              "    </tr>\n",
              "    <tr>\n",
              "      <th>37548</th>\n",
              "      <td>0.0</td>\n",
              "      <td>0.0</td>\n",
              "      <td>0.0</td>\n",
              "      <td>0.0</td>\n",
              "      <td>0.0</td>\n",
              "      <td>0.0</td>\n",
              "      <td>0.0</td>\n",
              "      <td>0.0</td>\n",
              "      <td>0.0</td>\n",
              "      <td>0.0</td>\n",
              "      <td>...</td>\n",
              "      <td>0.75</td>\n",
              "      <td>0.00</td>\n",
              "      <td>0.25</td>\n",
              "      <td>0.0</td>\n",
              "      <td>fffe10711d5b55829381151552ca72e07a85ae61e735fc...</td>\n",
              "      <td>[nan, 9e0dd96e141aeb5ff347822febcfe36c12c07dde...</td>\n",
              "      <td>0</td>\n",
              "      <td>[add, view, view, view]</td>\n",
              "      <td>4</td>\n",
              "      <td>[2019-03-31 21:44:40.989000+00:00, 2019-03-31 ...</td>\n",
              "    </tr>\n",
              "    <tr>\n",
              "      <th>37549</th>\n",
              "      <td>NaN</td>\n",
              "      <td>NaN</td>\n",
              "      <td>NaN</td>\n",
              "      <td>NaN</td>\n",
              "      <td>NaN</td>\n",
              "      <td>NaN</td>\n",
              "      <td>NaN</td>\n",
              "      <td>NaN</td>\n",
              "      <td>NaN</td>\n",
              "      <td>NaN</td>\n",
              "      <td>...</td>\n",
              "      <td>1.00</td>\n",
              "      <td>0.00</td>\n",
              "      <td>0.00</td>\n",
              "      <td>0.0</td>\n",
              "      <td>fffea3098044d3337653f42e572f705dc641c8916c8a42...</td>\n",
              "      <td>[nan, nan, nan, nan, nan, 4951550c72cc2037a518...</td>\n",
              "      <td>0</td>\n",
              "      <td>[view, view]</td>\n",
              "      <td>2</td>\n",
              "      <td>[2019-01-23 00:54:47.964000+00:00, 2019-01-23 ...</td>\n",
              "    </tr>\n",
              "    <tr>\n",
              "      <th>37550</th>\n",
              "      <td>1.0</td>\n",
              "      <td>0.0</td>\n",
              "      <td>0.0</td>\n",
              "      <td>0.0</td>\n",
              "      <td>0.0</td>\n",
              "      <td>0.0</td>\n",
              "      <td>0.0</td>\n",
              "      <td>0.0</td>\n",
              "      <td>0.0</td>\n",
              "      <td>0.0</td>\n",
              "      <td>...</td>\n",
              "      <td>1.00</td>\n",
              "      <td>0.00</td>\n",
              "      <td>0.00</td>\n",
              "      <td>0.0</td>\n",
              "      <td>ffff2f2d1dbd19956c340e4e7df3ea2481695387755f4c...</td>\n",
              "      <td>[nan, bb2b1094cc7f65b3497d1d6872317d7134804781...</td>\n",
              "      <td>0</td>\n",
              "      <td>[view, view, view, view, view]</td>\n",
              "      <td>5</td>\n",
              "      <td>[2019-01-20 00:27:32.261000+00:00, 2019-01-20 ...</td>\n",
              "    </tr>\n",
              "    <tr>\n",
              "      <th>37551</th>\n",
              "      <td>NaN</td>\n",
              "      <td>NaN</td>\n",
              "      <td>NaN</td>\n",
              "      <td>NaN</td>\n",
              "      <td>NaN</td>\n",
              "      <td>NaN</td>\n",
              "      <td>NaN</td>\n",
              "      <td>NaN</td>\n",
              "      <td>NaN</td>\n",
              "      <td>NaN</td>\n",
              "      <td>...</td>\n",
              "      <td>NaN</td>\n",
              "      <td>NaN</td>\n",
              "      <td>NaN</td>\n",
              "      <td>NaN</td>\n",
              "      <td>ffffcc02c4406d87ef142496eec68ccdfb97719f2cde92...</td>\n",
              "      <td>[nan, eae56abc8ed5f4921817bea41a7880df350cd4db...</td>\n",
              "      <td>0</td>\n",
              "      <td>[]</td>\n",
              "      <td>0</td>\n",
              "      <td>[]</td>\n",
              "    </tr>\n",
              "  </tbody>\n",
              "</table>\n",
              "<p>37552 rows × 151 columns</p>\n",
              "</div>"
            ],
            "text/plain": [
              "       view_view_view_view  view_view_view_detail  view_view_view_add  \\\n",
              "0                      0.0                    0.0                 0.0   \n",
              "1                      NaN                    NaN                 NaN   \n",
              "2                      0.0                    0.0                 0.0   \n",
              "3                      0.0                    0.5                 0.0   \n",
              "4                      0.0                    0.0                 0.0   \n",
              "...                    ...                    ...                 ...   \n",
              "37547                  NaN                    NaN                 NaN   \n",
              "37548                  0.0                    0.0                 0.0   \n",
              "37549                  NaN                    NaN                 NaN   \n",
              "37550                  1.0                    0.0                 0.0   \n",
              "37551                  NaN                    NaN                 NaN   \n",
              "\n",
              "       view_view_view_remove  view_view_detail_view  view_view_detail_detail  \\\n",
              "0                        0.0                    0.0                      0.0   \n",
              "1                        NaN                    NaN                      NaN   \n",
              "2                        0.0                    0.0                      0.0   \n",
              "3                        0.0                    0.5                      0.0   \n",
              "4                        0.0                    0.0                      0.0   \n",
              "...                      ...                    ...                      ...   \n",
              "37547                    NaN                    NaN                      NaN   \n",
              "37548                    0.0                    0.0                      0.0   \n",
              "37549                    NaN                    NaN                      NaN   \n",
              "37550                    0.0                    0.0                      0.0   \n",
              "37551                    NaN                    NaN                      NaN   \n",
              "\n",
              "       view_view_detail_add  view_view_detail_remove  view_view_add_view  \\\n",
              "0                       0.0                      0.0                 0.0   \n",
              "1                       NaN                      NaN                 NaN   \n",
              "2                       0.0                      0.0                 0.0   \n",
              "3                       0.0                      0.0                 0.0   \n",
              "4                       0.0                      0.0                 0.0   \n",
              "...                     ...                      ...                 ...   \n",
              "37547                   NaN                      NaN                 NaN   \n",
              "37548                   0.0                      0.0                 0.0   \n",
              "37549                   NaN                      NaN                 NaN   \n",
              "37550                   0.0                      0.0                 0.0   \n",
              "37551                   NaN                      NaN                 NaN   \n",
              "\n",
              "       view_view_remove_view  ...  view  detail   add  remove  \\\n",
              "0                        0.0  ...  0.80    0.20  0.00     0.0   \n",
              "1                        NaN  ...  0.67    0.33  0.00     0.0   \n",
              "2                        0.0  ...  0.80    0.00  0.00     0.2   \n",
              "3                        0.0  ...  0.80    0.20  0.00     0.0   \n",
              "4                        0.0  ...  0.60    0.40  0.00     0.0   \n",
              "...                      ...  ...   ...     ...   ...     ...   \n",
              "37547                    NaN  ...  1.00    0.00  0.00     0.0   \n",
              "37548                    0.0  ...  0.75    0.00  0.25     0.0   \n",
              "37549                    NaN  ...  1.00    0.00  0.00     0.0   \n",
              "37550                    0.0  ...  1.00    0.00  0.00     0.0   \n",
              "37551                    NaN  ...   NaN     NaN   NaN     NaN   \n",
              "\n",
              "                                         session_id_hash  \\\n",
              "0      00024a2cbef8be2015bf16d355226c4b4d60b4e5216dea...   \n",
              "1      0006bbad7d1d1fb577307172adfb65bda305a6998050e7...   \n",
              "2      0007007d260df47d7c9cc306bdc2b4b6b8780d7ecc1c4d...   \n",
              "3      000718b63f09e50c0e00f32038b2b5439b16082f4ebe0a...   \n",
              "4      000acdb2f21499ec80bc6ceecd59232d4111058330c365...   \n",
              "...                                                  ...   \n",
              "37547  fffce177594c5442f86fe17a9fb595bb441bf75500faf7...   \n",
              "37548  fffe10711d5b55829381151552ca72e07a85ae61e735fc...   \n",
              "37549  fffea3098044d3337653f42e572f705dc641c8916c8a42...   \n",
              "37550  ffff2f2d1dbd19956c340e4e7df3ea2481695387755f4c...   \n",
              "37551  ffffcc02c4406d87ef142496eec68ccdfb97719f2cde92...   \n",
              "\n",
              "                                        product_sku_hash  purchase  \\\n",
              "0      [nan, 2ab1ba02f7ca5ec008fd4286405f1f1ef7ae86f1...         0   \n",
              "1      [nan, nan, nan, nan, nan, nan, nan, nan, nan, ...         0   \n",
              "2      [ac162afe05d911e0c488047ef922e4315723aae7e4009...         0   \n",
              "3      [f29fbc934f4c2340801052adc981a3ad2703d02b59a5c...         0   \n",
              "4      [nan, ccd5e4bbee312793fc3c91a52285d8c17e07596c...         0   \n",
              "...                                                  ...       ...   \n",
              "37547  [nan, 75edba6339dd464324d17cc15646dcc19723199e...         0   \n",
              "37548  [nan, 9e0dd96e141aeb5ff347822febcfe36c12c07dde...         0   \n",
              "37549  [nan, nan, nan, nan, nan, 4951550c72cc2037a518...         0   \n",
              "37550  [nan, bb2b1094cc7f65b3497d1d6872317d7134804781...         0   \n",
              "37551  [nan, eae56abc8ed5f4921817bea41a7880df350cd4db...         0   \n",
              "\n",
              "                                  session  session_len  \\\n",
              "0        [view, detail, view, view, view]            5   \n",
              "1                    [view, detail, view]            3   \n",
              "2        [view, remove, view, view, view]            5   \n",
              "3        [view, view, view, detail, view]            5   \n",
              "4      [view, detail, view, view, detail]            5   \n",
              "...                                   ...          ...   \n",
              "37547                        [view, view]            2   \n",
              "37548             [add, view, view, view]            4   \n",
              "37549                        [view, view]            2   \n",
              "37550      [view, view, view, view, view]            5   \n",
              "37551                                  []            0   \n",
              "\n",
              "                                              timestamps  \n",
              "0      [2019-02-23 13:06:41.183000+00:00, 2019-02-23 ...  \n",
              "1      [2019-03-04 22:27:05.667000+00:00, 2019-03-04 ...  \n",
              "2      [2019-03-14 01:46:43.598000+00:00, 2019-03-14 ...  \n",
              "3      [2019-02-10 19:23:24.123000+00:00, 2019-02-10 ...  \n",
              "4      [2019-02-04 23:18:29.280000+00:00, 2019-02-04 ...  \n",
              "...                                                  ...  \n",
              "37547  [2019-02-05 00:40:10.124000+00:00, 2019-02-05 ...  \n",
              "37548  [2019-03-31 21:44:40.989000+00:00, 2019-03-31 ...  \n",
              "37549  [2019-01-23 00:54:47.964000+00:00, 2019-01-23 ...  \n",
              "37550  [2019-01-20 00:27:32.261000+00:00, 2019-01-20 ...  \n",
              "37551                                                 []  \n",
              "\n",
              "[37552 rows x 151 columns]"
            ]
          },
          "metadata": {},
          "output_type": "display_data"
        },
        {
          "name": "stdout",
          "output_type": "stream",
          "text": [
            "Perform preprocessing step: 11 (Extract first timestamp)\n"
          ]
        },
        {
          "ename": "IndexError",
          "evalue": "list index out of range",
          "output_type": "error",
          "traceback": [
            "\u001b[1;31m---------------------------------------------------------------------------\u001b[0m",
            "\u001b[1;31mIndexError\u001b[0m                                Traceback (most recent call last)",
            "\u001b[1;32m<ipython-input-209-c0fc19bf49b6>\u001b[0m in \u001b[0;36m<module>\u001b[1;34m\u001b[0m\n\u001b[0;32m     21\u001b[0m         \u001b[0mcolumns_keep_n_gram\u001b[0m\u001b[1;33m,\u001b[0m\u001b[1;33m\u001b[0m\u001b[1;33m\u001b[0m\u001b[0m\n\u001b[0;32m     22\u001b[0m         \u001b[0mkeep_x_after_add\u001b[0m\u001b[1;33m,\u001b[0m\u001b[1;33m\u001b[0m\u001b[1;33m\u001b[0m\u001b[0m\n\u001b[1;32m---> 23\u001b[1;33m         save=save_test_real)\n\u001b[0m\u001b[0;32m     24\u001b[0m \u001b[1;33m\u001b[0m\u001b[0m\n\u001b[0;32m     25\u001b[0m     \u001b[0mkeep_x_after_add\u001b[0m \u001b[1;33m=\u001b[0m \u001b[1;36m10\u001b[0m\u001b[1;33m\u001b[0m\u001b[1;33m\u001b[0m\u001b[0m\n",
            "\u001b[1;32m<ipython-input-208-09bc3d884179>\u001b[0m in \u001b[0;36mdataPipeline_test\u001b[1;34m(df_input, df_name, n_gram_len_max, columns_keep_n_gram, keep_x_after_add, save)\u001b[0m\n\u001b[0;32m     47\u001b[0m     \u001b[0mdisplay\u001b[0m\u001b[1;33m(\u001b[0m\u001b[0mdf_p\u001b[0m\u001b[1;33m)\u001b[0m\u001b[1;33m\u001b[0m\u001b[1;33m\u001b[0m\u001b[0m\n\u001b[0;32m     48\u001b[0m     \u001b[0mprint\u001b[0m\u001b[1;33m(\u001b[0m\u001b[1;34m'Perform preprocessing step: {} (Extract first timestamp)'\u001b[0m\u001b[1;33m.\u001b[0m\u001b[0mformat\u001b[0m\u001b[1;33m(\u001b[0m\u001b[1;36m11\u001b[0m\u001b[1;33m)\u001b[0m\u001b[1;33m)\u001b[0m\u001b[1;33m\u001b[0m\u001b[1;33m\u001b[0m\u001b[0m\n\u001b[1;32m---> 49\u001b[1;33m     \u001b[0mdf_p\u001b[0m \u001b[1;33m=\u001b[0m \u001b[0mprep_11_datetime\u001b[0m\u001b[1;33m(\u001b[0m\u001b[0mdf_p\u001b[0m\u001b[1;33m)\u001b[0m\u001b[1;33m\u001b[0m\u001b[1;33m\u001b[0m\u001b[0m\n\u001b[0m\u001b[0;32m     50\u001b[0m \u001b[1;33m\u001b[0m\u001b[0m\n\u001b[0;32m     51\u001b[0m     \u001b[0mprint\u001b[0m\u001b[1;33m(\u001b[0m\u001b[1;34m'Perform preprocessing step: {} (Create feature: Hour of the day, day of week ,weekend)'\u001b[0m\u001b[1;33m.\u001b[0m\u001b[0mformat\u001b[0m\u001b[1;33m(\u001b[0m\u001b[1;36m12\u001b[0m\u001b[1;33m)\u001b[0m\u001b[1;33m)\u001b[0m\u001b[1;33m\u001b[0m\u001b[1;33m\u001b[0m\u001b[0m\n",
            "\u001b[1;32m<ipython-input-197-641e3310e1b0>\u001b[0m in \u001b[0;36mprep_11_datetime\u001b[1;34m(df)\u001b[0m\n\u001b[0;32m      4\u001b[0m \u001b[1;33m\u001b[0m\u001b[0m\n\u001b[0;32m      5\u001b[0m \u001b[1;32mdef\u001b[0m \u001b[0mprep_11_datetime\u001b[0m\u001b[1;33m(\u001b[0m\u001b[0mdf\u001b[0m\u001b[1;33m)\u001b[0m\u001b[1;33m:\u001b[0m\u001b[1;33m\u001b[0m\u001b[1;33m\u001b[0m\u001b[0m\n\u001b[1;32m----> 6\u001b[1;33m   \u001b[0mdf\u001b[0m\u001b[1;33m[\u001b[0m\u001b[1;34m'timestamp_first'\u001b[0m\u001b[1;33m]\u001b[0m \u001b[1;33m=\u001b[0m \u001b[1;33m[\u001b[0m\u001b[0mfirst_action\u001b[0m\u001b[1;33m(\u001b[0m\u001b[0mtimestamps\u001b[0m\u001b[1;33m)\u001b[0m \u001b[1;32mfor\u001b[0m \u001b[0mtimestamps\u001b[0m \u001b[1;32min\u001b[0m \u001b[0mdf\u001b[0m\u001b[1;33m[\u001b[0m\u001b[1;34m'timestamps'\u001b[0m\u001b[1;33m]\u001b[0m \u001b[1;33m]\u001b[0m\u001b[1;33m\u001b[0m\u001b[1;33m\u001b[0m\u001b[0m\n\u001b[0m\u001b[0;32m      7\u001b[0m   \u001b[1;32mreturn\u001b[0m \u001b[0mdf\u001b[0m\u001b[1;33m\u001b[0m\u001b[1;33m\u001b[0m\u001b[0m\n",
            "\u001b[1;32m<ipython-input-197-641e3310e1b0>\u001b[0m in \u001b[0;36m<listcomp>\u001b[1;34m(.0)\u001b[0m\n\u001b[0;32m      4\u001b[0m \u001b[1;33m\u001b[0m\u001b[0m\n\u001b[0;32m      5\u001b[0m \u001b[1;32mdef\u001b[0m \u001b[0mprep_11_datetime\u001b[0m\u001b[1;33m(\u001b[0m\u001b[0mdf\u001b[0m\u001b[1;33m)\u001b[0m\u001b[1;33m:\u001b[0m\u001b[1;33m\u001b[0m\u001b[1;33m\u001b[0m\u001b[0m\n\u001b[1;32m----> 6\u001b[1;33m   \u001b[0mdf\u001b[0m\u001b[1;33m[\u001b[0m\u001b[1;34m'timestamp_first'\u001b[0m\u001b[1;33m]\u001b[0m \u001b[1;33m=\u001b[0m \u001b[1;33m[\u001b[0m\u001b[0mfirst_action\u001b[0m\u001b[1;33m(\u001b[0m\u001b[0mtimestamps\u001b[0m\u001b[1;33m)\u001b[0m \u001b[1;32mfor\u001b[0m \u001b[0mtimestamps\u001b[0m \u001b[1;32min\u001b[0m \u001b[0mdf\u001b[0m\u001b[1;33m[\u001b[0m\u001b[1;34m'timestamps'\u001b[0m\u001b[1;33m]\u001b[0m \u001b[1;33m]\u001b[0m\u001b[1;33m\u001b[0m\u001b[1;33m\u001b[0m\u001b[0m\n\u001b[0m\u001b[0;32m      7\u001b[0m   \u001b[1;32mreturn\u001b[0m \u001b[0mdf\u001b[0m\u001b[1;33m\u001b[0m\u001b[1;33m\u001b[0m\u001b[0m\n",
            "\u001b[1;32m<ipython-input-197-641e3310e1b0>\u001b[0m in \u001b[0;36mfirst_action\u001b[1;34m(timestamps)\u001b[0m\n\u001b[0;32m      1\u001b[0m \u001b[1;31m# extract datetime of first action\u001b[0m\u001b[1;33m\u001b[0m\u001b[1;33m\u001b[0m\u001b[1;33m\u001b[0m\u001b[0m\n\u001b[0;32m      2\u001b[0m \u001b[1;32mdef\u001b[0m \u001b[0mfirst_action\u001b[0m\u001b[1;33m(\u001b[0m\u001b[0mtimestamps\u001b[0m\u001b[1;33m)\u001b[0m\u001b[1;33m:\u001b[0m\u001b[1;33m\u001b[0m\u001b[1;33m\u001b[0m\u001b[0m\n\u001b[1;32m----> 3\u001b[1;33m   \u001b[1;32mreturn\u001b[0m \u001b[0mtimestamps\u001b[0m\u001b[1;33m[\u001b[0m\u001b[1;36m0\u001b[0m\u001b[1;33m]\u001b[0m\u001b[1;33m\u001b[0m\u001b[1;33m\u001b[0m\u001b[0m\n\u001b[0m\u001b[0;32m      4\u001b[0m \u001b[1;33m\u001b[0m\u001b[0m\n\u001b[0;32m      5\u001b[0m \u001b[1;32mdef\u001b[0m \u001b[0mprep_11_datetime\u001b[0m\u001b[1;33m(\u001b[0m\u001b[0mdf\u001b[0m\u001b[1;33m)\u001b[0m\u001b[1;33m:\u001b[0m\u001b[1;33m\u001b[0m\u001b[1;33m\u001b[0m\u001b[0m\n",
            "\u001b[1;31mIndexError\u001b[0m: list index out of range"
          ]
        }
      ],
      "source": [
        "run_data_pipeline_test_real = True\n",
        "save_test_real = True\n",
        "\n",
        "if run_data_pipeline_test_real:\n",
        "    # extract n_gram columns from df_features (some were deleted because they were empty) -> same features are needed in the test data\n",
        "    columns_keep_n_gram = []\n",
        "    for i in range(n_gram_len_max+1):\n",
        "        n_grams_names = create_n_grams_names(i)\n",
        "        for name in n_grams_names:\n",
        "            if name in df_features.columns:\n",
        "                columns_keep_n_gram.append(name)\n",
        "\n",
        "\n",
        "    keep_x_after_add = 5\n",
        "    df_name = 'df_real_test_5'\n",
        "    # Early prediction will be evaluated at 5, 10, and 15 clicks after the first add-to-cart event in a session. \n",
        "    df_real_test_features_5, df_real_test_labels_5  = dataPipeline_test(\n",
        "        df_test_real, \n",
        "        df_name, \n",
        "        n_gram_len_max, \n",
        "        columns_keep_n_gram,\n",
        "        keep_x_after_add,\n",
        "        save=save_test_real)\n",
        "\n",
        "    keep_x_after_add = 10\n",
        "    df_name = 'df_real_test_10'\n",
        "    # Early prediction will be evaluated at 10, 10, and 110 clicks after the first add-to-cart event in a session. \n",
        "    df_real_test_features_10, df_real_test_labels_10  = dataPipeline_test(\n",
        "        df_test_real, \n",
        "        df_name, \n",
        "        n_gram_len_max, \n",
        "        columns_keep_n_gram,\n",
        "        keep_x_after_add,\n",
        "        save=save_test_real)\n",
        "\n",
        "    keep_x_after_add = 15\n",
        "    df_name = 'df_real_test_15'\n",
        "    # Early prediction will be evaluated at 15, 15, and 115 clicks after the first add-to-cart event in a session. \n",
        "    df_real_test_features_15, df_real_test_labels_15  = dataPipeline_test(\n",
        "        df_test_real, \n",
        "        df_name, \n",
        "        n_gram_len_max, \n",
        "        columns_keep_n_gram,\n",
        "        keep_x_after_add,\n",
        "        save=save_test_real)\n",
        "\n",
        "else:\n",
        "    print('Load preprocessed data')\n",
        "    df_name_save = '_real_test_5'\n",
        "    df_real_test_features_5 = pd.read_csv(os.path.join(DATA_FOLDER_PREPROCESSING,\"Data_features{}_n{}.csv\".format(df_name_save,n_gram_len_max)))\n",
        "    df_real_test_labels_5 = pd.read_csv(os.path.join(DATA_FOLDER_PREPROCESSING,\"Data_labels{}_n{}.csv\".format(df_name_save,n_gram_len_max)))\n",
        "\n",
        "    df_name_save = '_real_test_10'\n",
        "    df_real_test_features_10 = pd.read_csv(os.path.join(DATA_FOLDER_PREPROCESSING,\"Data_features{}_n{}.csv\".format(df_name_save,n_gram_len_max)))\n",
        "    df_real_test_labels_10 = pd.read_csv(os.path.join(DATA_FOLDER_PREPROCESSING,\"Data_labels{}_n{}.csv\".format(df_name_save,n_gram_len_max)))\n",
        "    \n",
        "    df_name_save = '_real_test_15'\n",
        "    df_real_test_features_15 = pd.read_csv(os.path.join(DATA_FOLDER_PREPROCESSING,\"Data_features{}_n{}.csv\".format(df_name_save,n_gram_len_max)))\n",
        "    df_real_test_labels_15 = pd.read_csv(os.path.join(DATA_FOLDER_PREPROCESSING,\"Data_labels{}_n{}.csv\".format(df_name_save,n_gram_len_max)))"
      ]
    },
    {
      "attachments": {},
      "cell_type": "markdown",
      "id": "a3ca64e0",
      "metadata": {},
      "source": [
        "## Task 5: Error analysis function"
      ]
    },
    {
      "cell_type": "code",
      "execution_count": null,
      "id": "2b52f784",
      "metadata": {},
      "outputs": [],
      "source": [
        "def error_analysis():\n",
        "    pass\n",
        "\n",
        "# Based on transitions???\n",
        "\n",
        "    \"\"\"# (can be the baseline or your own model, or a comparison between their predictions and effectiveness) (5 pts: you can use any approach, you will get points based on the conclusions you draw from the error analysis, there isn't a right and wrong here, but sensible and not). This should feature in the notebook: use the dev set as your eval data: in real life you should do this on the test set, but since the test set complete with true labels will be released late to ensure a fair evaluation procedure, you should inspect your models' behavior using the dev set. TODO🚩\n",
        "# Make sure to indicate clearly in the notebook which output matches a certain task, using the task ID. No points will be awarded if you fail to indicate which task a certain code-block or markdown cell is addressing.\n",
        "\n",
        "# You should submit a complete notebook. If dependencies are required to run your code, make sure to install them at the beginning of the notebook. The only input files should be the ones you receive from me. Make sure you comment the code explaining what happens (use doc-strings to define what functions do, inline comments for more detailed information inside functions, as well as markdown cells to highlight the flow). If you submit undocumented code, you will automatically get a 1/10.\n",
        "\n",
        "# You need 17 points out of 30 to pass, meaning that 17/30 translates to a 5.5/10. In principle you can pass if you submit predictions from a model which doesn't beat the baseline, but you have to do tasks 1, 2, and 4 perfectly. We have seen how to pre-process the data, build an oracle model and how to implement a Naive Bayes Classifier during the practicals, so you have a blueprint for the first three tasks. If you stop here, however, you won't pass the assignment, so you have to engage with the implementation of a new model or feed new info to the baseline architecture. If you want to get a grade higher than 8 or edge your chances to pass, you have to engage with the error analysis.\n",
        "\n",
        "# IMPORTANT: I will consider predictions from one experimental model per group. You might have to test more than one (so derive a dev set from the training data to test different models), but only submit the one you think works best!! You can submit multiple times, but I'll consider the last file you submit (the last baseline predictions, the last experimental model predictions, the last oracle predictions, the last notebook).\"\"\"\n",
        "\n",
        "# 5. do error analysis on one of the models (can be the baseline or your own model, or a comparison between their predictions and effectiveness) (<font color='red'>5 pts: you can use any approach, you will get points based on the conclusions you draw from the error analysis, there isn't a right and wrong here, but sensible and not). This should feature in the notebook: use the dev set as your eval data: in real life you should do this on the test set, but since the test set complete with true labels will be released late to ensure a fair evaluation procedure, you should inspect your models' behavior using the dev set.</font>"
      ]
    },
    {
      "attachments": {},
      "cell_type": "markdown",
      "id": "0117c092",
      "metadata": {},
      "source": [
        "# Machine Learning"
      ]
    },
    {
      "cell_type": "code",
      "execution_count": null,
      "id": "fd48d4ee",
      "metadata": {},
      "outputs": [],
      "source": []
    }
  ],
  "metadata": {
    "colab": {
      "provenance": []
    },
    "kernelspec": {
      "display_name": "aiii",
      "language": "python",
      "name": "python3"
    },
    "language_info": {
      "codemirror_mode": {
        "name": "ipython",
        "version": 3
      },
      "file_extension": ".py",
      "mimetype": "text/x-python",
      "name": "python",
      "nbconvert_exporter": "python",
      "pygments_lexer": "ipython3",
      "version": "3.6.13"
    },
    "vscode": {
      "interpreter": {
        "hash": "5e72f42cf078bf09a7be4110ec50a9dd0d66bb8eea610c4eb1614966cfaf27bd"
      }
    }
  },
  "nbformat": 4,
  "nbformat_minor": 5
}
